{
 "cells": [
  {
   "cell_type": "code",
   "execution_count": 1,
   "metadata": {},
   "outputs": [],
   "source": [
    "import numpy as np\n",
    "import pandas as pd\n",
    "import torch\n",
    "import torch.nn as nn\n",
    "import torch.optim as optim\n",
    "from torch.utils.data import Dataset, DataLoader\n",
    "from scipy.sparse import dok_matrix\n",
    "from tqdm import tqdm"
   ]
  },
  {
   "cell_type": "code",
   "execution_count": 2,
   "metadata": {},
   "outputs": [],
   "source": [
    "class BPR(nn.Module):\n",
    "\tdef __init__(self, user_num, item_num, factor_num):\n",
    "\t\tsuper(BPR, self).__init__()\n",
    "\t\t\"\"\"\n",
    "\t\tuser_num: number of users;\n",
    "\t\titem_num: number of items;\n",
    "\t\tfactor_num: number of predictive factors.\n",
    "\t\t\"\"\"\t\t\n",
    "\t\tself.embed_user = nn.Embedding(user_num, factor_num)\n",
    "\t\tself.embed_item = nn.Embedding(item_num, factor_num)\n",
    "\n",
    "\t\tnn.init.normal_(self.embed_user.weight, std=0.01)\n",
    "\t\tnn.init.normal_(self.embed_item.weight, std=0.01)\n",
    "\n",
    "\tdef forward(self, user, item_i, item_j):\n",
    "\t\tuser = self.embed_user(user)\n",
    "\t\titem_i = self.embed_item(item_i)\n",
    "\t\titem_j = self.embed_item(item_j)\n",
    "\n",
    "\t\tprediction_i = (user * item_i).sum(dim=-1)\n",
    "\t\tprediction_j = (user * item_j).sum(dim=-1)\n",
    "\t\treturn prediction_i, prediction_j"
   ]
  },
  {
   "cell_type": "code",
   "execution_count": 3,
   "metadata": {},
   "outputs": [],
   "source": [
    "class BPRDataset(Dataset):\n",
    "\tdef __init__(self, data_path, num_negative=5, is_training=True):\n",
    "\t\tsuper(BPRDataset, self).__init__()\n",
    "\t\t\n",
    "\t\tself.train_df = pd.read_csv(data_path)\n",
    "\t\tself.train_df = self.train_df[['user', 'item']].sort_values(by=['user'])\n",
    "\n",
    "\t\tself.zero_based_mapping()\n",
    "\t\tself.get_sparse_matrix()\n",
    "\n",
    "\t\tself.num_negative = num_negative\n",
    "\t\tself.is_training = is_training\n",
    "\t\tself.features = self.train_df.values\n",
    "\n",
    "\tdef negative_sampling(self):\n",
    "\t\tassert self.is_training, 'no need to sampling when testing'\n",
    "\n",
    "\t\tnegative_samples = []\n",
    "\t\t\n",
    "\t\tfor u, i in tqdm(self.train_df.values):\n",
    "\t\t\tfor _ in range(self.num_negative):\n",
    "\t\t\t\tj = np.random.randint(self.n_item)\n",
    "\t\t\t\twhile (u, j) in self.train_matrix:\n",
    "\t\t\t\t\tj = np.random.randint(self.n_item)\n",
    "\t\t\t\tnegative_samples.append([u, i, j])\n",
    "\t\t\n",
    "\t\tself.features = negative_samples\n",
    "\n",
    "\tdef __len__(self):\n",
    "\t\treturn self.num_negative * len(self.train_df) if \\\n",
    "\t\t\t\tself.is_training else len(self.train_df)\n",
    "\n",
    "\tdef __getitem__(self, idx):\n",
    "\t\tuser = self.features[idx][0]\n",
    "\t\titem_i = self.features[idx][1]\n",
    "\t\titem_j = self.features[idx][2] if \\\n",
    "\t\t\t\tself.is_training else self.features[idx][1]\n",
    "\t\treturn user, item_i, item_j \n",
    "\t\n",
    "\tdef zero_based_mapping(self) :\n",
    "\t\tusers = list(set(self.train_df.loc[:,'user']))\n",
    "\t\titems =  list(set(self.train_df.loc[:, 'item']))\n",
    "\n",
    "\t\tself.n_user = len(users)\n",
    "\t\tself.n_item = len(items)\n",
    "\n",
    "\t\t# user, item을 zero-based index로 mapping\n",
    "\t\tif self.n_user-1 != max(users):\n",
    "\t\t\tusers_dict = {users[i]: i for i in range(len(users))}\n",
    "\t\t\tself.train_df['user']  = self.train_df['user'].map(lambda x : users_dict[x])\n",
    "\n",
    "\t\tif self.n_item-1 != max(items):\n",
    "\t\t\titems_dict = {items[i]: i for i in range(len(items))}\n",
    "\t\t\tself.train_df['item']  = self.train_df['item'].map(lambda x : items_dict[x])\n",
    "\t\n",
    "\tdef get_sparse_matrix(self):\n",
    "\t\ttrain_matrix = dok_matrix((self.n_user, self.n_item), dtype=np.float32)\n",
    "\t\tfor u, i in tqdm(self.train_df.values):\n",
    "\t\t\ttrain_matrix[u, i] = 1.0\n",
    "\t\tself.train_matrix = train_matrix"
   ]
  },
  {
   "cell_type": "code",
   "execution_count": 4,
   "metadata": {},
   "outputs": [
    {
     "name": "stderr",
     "output_type": "stream",
     "text": [
      "100%|██████████| 5154471/5154471 [00:56<00:00, 90957.07it/s]\n",
      "100%|██████████| 5154471/5154471 [00:56<00:00, 91138.10it/s]\n"
     ]
    }
   ],
   "source": [
    "data_dir = '/opt/ml/movie-recommendation/data/train/'\n",
    "train_dataset = BPRDataset(data_dir + 'train_ratings.csv')\n",
    "test_dataset = BPRDataset(data_dir + 'train_ratings.csv', is_training=False)"
   ]
  },
  {
   "cell_type": "code",
   "execution_count": 5,
   "metadata": {},
   "outputs": [],
   "source": [
    "device = torch.device(\"cuda\" if torch.cuda.is_available() else \"cpu\")\n",
    "model = BPR(train_dataset.n_user, train_dataset.n_item, 7).to(device)\n",
    "train_loader = DataLoader(train_dataset, batch_size=1024, shuffle=True, num_workers=4)\n",
    "optimizer = optim.SGD(model.parameters(), lr=0.001)"
   ]
  },
  {
   "cell_type": "code",
   "execution_count": 6,
   "metadata": {},
   "outputs": [
    {
     "name": "stderr",
     "output_type": "stream",
     "text": [
      "100%|██████████| 5154471/5154471 [02:05<00:00, 41145.06it/s]\n"
     ]
    }
   ],
   "source": [
    "for epoch in range(1):\n",
    "\tmodel.train() \n",
    "\ttrain_loader.dataset.negative_sampling()\n",
    "\n",
    "\tfor user, item_i, item_j in train_loader:\n",
    "\t\tuser = user.to(device)\n",
    "\t\titem_i = item_i.to(device)\n",
    "\t\titem_j = item_j.to(device)\n",
    "\n",
    "\t\tmodel.zero_grad()\n",
    "\t\tprediction_i, prediction_j = model(user, item_i, item_j)\n",
    "\t\tloss =- (prediction_i - prediction_j).sigmoid().log().sum()\n",
    "\t\tloss.backward()\n",
    "\t\toptimizer.step()"
   ]
  },
  {
   "cell_type": "code",
   "execution_count": null,
   "metadata": {},
   "outputs": [],
   "source": []
  }
 ],
 "metadata": {
  "interpreter": {
   "hash": "3ea19d11efa7602c1f12500925a974ed4f31fcf847bd6f694bd5180da2602ded"
  },
  "kernelspec": {
   "display_name": "Python 3.8.12 ('py38')",
   "language": "python",
   "name": "python3"
  },
  "language_info": {
   "codemirror_mode": {
    "name": "ipython",
    "version": 3
   },
   "file_extension": ".py",
   "mimetype": "text/x-python",
   "name": "python",
   "nbconvert_exporter": "python",
   "pygments_lexer": "ipython3",
   "version": "3.8.12"
  },
  "orig_nbformat": 4
 },
 "nbformat": 4,
 "nbformat_minor": 2
}
