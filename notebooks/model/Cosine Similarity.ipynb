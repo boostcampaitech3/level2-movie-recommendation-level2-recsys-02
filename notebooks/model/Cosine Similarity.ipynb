{
 "cells": [
  {
   "cell_type": "code",
   "execution_count": 1,
   "metadata": {},
   "outputs": [],
   "source": [
    "import pandas as pd\n",
    "import numpy as np\n",
    "from tqdm import tqdm\n",
    "import os\n",
    "from importlib import import_module\n",
    "from sklearn.feature_extraction.text import CountVectorizer\n",
    "from sklearn.metrics.pairwise import cosine_similarity"
   ]
  },
  {
   "cell_type": "markdown",
   "metadata": {},
   "source": [
    "### Load Data"
   ]
  },
  {
   "cell_type": "code",
   "execution_count": 2,
   "metadata": {},
   "outputs": [],
   "source": [
    "data_path = '/opt/ml/movie-recommendation/data/train/'\n",
    "\n",
    "data = pd.read_csv(os.path.join(data_path, 'train_ratings.csv'), sep=',')\n",
    "year_data = pd.read_csv(os.path.join(data_path, 'years.tsv'), sep='\\t')\n",
    "writer_data = pd.read_csv(os.path.join(data_path, 'writers.tsv'), sep='\\t')\n",
    "title_data = pd.read_csv(os.path.join(data_path, 'titles.tsv'), sep='\\t')\n",
    "genre_data = pd.read_csv(os.path.join(data_path, 'genres.tsv'), sep='\\t')\n",
    "director_data = pd.read_csv(os.path.join(data_path, 'directors.tsv'), sep='\\t')\n",
    "\n",
    "user_ids = data.user.unique()\n",
    "item_ids = data.item.unique()"
   ]
  },
  {
   "cell_type": "markdown",
   "metadata": {},
   "source": [
    "### Extract Year Data from Title Data"
   ]
  },
  {
   "cell_type": "code",
   "execution_count": 3,
   "metadata": {},
   "outputs": [
    {
     "name": "stdout",
     "output_type": "stream",
     "text": [
      "# of items Before preprocessing: 6799\n",
      "# of items After preprocessing: 6807\n"
     ]
    }
   ],
   "source": [
    "print('# of items Before preprocessing:', year_data['item'].nunique())\n",
    "\n",
    "no_year_item_ids = set(item_ids) - set(year_data.loc[:,'item'])\n",
    "\n",
    "cond = title_data['item'].isin(no_year_item_ids)\n",
    "no_year_items = title_data[cond].copy()\n",
    "no_year_items['year'] = no_year_items['title'].apply(lambda x:int(x[-5:-1])).values\n",
    "year_data = pd.concat([year_data, no_year_items[['item', 'year']]], axis=0)\n",
    "\n",
    "print('# of items After preprocessing:', year_data['item'].nunique())"
   ]
  },
  {
   "cell_type": "markdown",
   "metadata": {},
   "source": [
    "### Group Year Data"
   ]
  },
  {
   "cell_type": "code",
   "execution_count": 4,
   "metadata": {},
   "outputs": [],
   "source": [
    "year_data['year'] = pd.cut(year_data['year'], list(range(1900, 2021, 10)))\n",
    "year_dict = {year:i for i, year in enumerate(set(year_data['year']))}\n",
    "year_data['year']  = year_data['year'].map(lambda x : 'y'+str(year_dict[x]))"
   ]
  },
  {
   "cell_type": "markdown",
   "metadata": {},
   "source": [
    "### Remove Year Data from Title Data"
   ]
  },
  {
   "cell_type": "code",
   "execution_count": 5,
   "metadata": {},
   "outputs": [],
   "source": [
    "title_data['title'] = title_data['title'].apply(lambda x:x[:-6])\n",
    "title_data['title'] = title_data['title'].str.replace(pat=r'[^\\w]',repl=r' ',regex=True)"
   ]
  },
  {
   "cell_type": "markdown",
   "metadata": {},
   "source": [
    "### Group Genre Data by Item"
   ]
  },
  {
   "cell_type": "code",
   "execution_count": 6,
   "metadata": {},
   "outputs": [
    {
     "name": "stderr",
     "output_type": "stream",
     "text": [
      "100%|██████████| 6807/6807 [00:00<00:00, 132838.10it/s]\n"
     ]
    }
   ],
   "source": [
    "item_genre_df = list(genre_data.groupby('item')['genre'])\n",
    "\n",
    "items = list()\n",
    "genres = list()\n",
    "\n",
    "for item, genre_df in tqdm(item_genre_df):\n",
    "    items.append(item)\n",
    "    genres.append(' '.join(list(genre_df)))\n",
    "\n",
    "genre_data = pd.DataFrame({'item': items, 'genre': genres})"
   ]
  },
  {
   "cell_type": "markdown",
   "metadata": {},
   "source": [
    "### Merge Year/Title/Genre Data"
   ]
  },
  {
   "cell_type": "code",
   "execution_count": 7,
   "metadata": {},
   "outputs": [
    {
     "data": {
      "text/html": [
       "<div>\n",
       "<style scoped>\n",
       "    .dataframe tbody tr th:only-of-type {\n",
       "        vertical-align: middle;\n",
       "    }\n",
       "\n",
       "    .dataframe tbody tr th {\n",
       "        vertical-align: top;\n",
       "    }\n",
       "\n",
       "    .dataframe thead th {\n",
       "        text-align: right;\n",
       "    }\n",
       "</style>\n",
       "<table border=\"1\" class=\"dataframe\">\n",
       "  <thead>\n",
       "    <tr style=\"text-align: right;\">\n",
       "      <th></th>\n",
       "      <th>item</th>\n",
       "      <th>year</th>\n",
       "      <th>title</th>\n",
       "      <th>genre</th>\n",
       "    </tr>\n",
       "  </thead>\n",
       "  <tbody>\n",
       "    <tr>\n",
       "      <th>0</th>\n",
       "      <td>1348</td>\n",
       "      <td>y5</td>\n",
       "      <td>Nosferatu  Nosferatu  eine Symphonie des Graue...</td>\n",
       "      <td>Horror</td>\n",
       "    </tr>\n",
       "    <tr>\n",
       "      <th>1</th>\n",
       "      <td>44587</td>\n",
       "      <td>y5</td>\n",
       "      <td>Nanook of the North</td>\n",
       "      <td>Documentary Drama</td>\n",
       "    </tr>\n",
       "    <tr>\n",
       "      <th>2</th>\n",
       "      <td>4768</td>\n",
       "      <td>y5</td>\n",
       "      <td>Dr  Mabuse  The Gambler  Dr  Mabuse  der Spiel...</td>\n",
       "      <td>Crime Mystery Thriller</td>\n",
       "    </tr>\n",
       "    <tr>\n",
       "      <th>3</th>\n",
       "      <td>8235</td>\n",
       "      <td>y5</td>\n",
       "      <td>Safety Last</td>\n",
       "      <td>Action Comedy Romance</td>\n",
       "    </tr>\n",
       "    <tr>\n",
       "      <th>4</th>\n",
       "      <td>8609</td>\n",
       "      <td>y5</td>\n",
       "      <td>Our Hospitality</td>\n",
       "      <td>Comedy</td>\n",
       "    </tr>\n",
       "    <tr>\n",
       "      <th>...</th>\n",
       "      <td>...</td>\n",
       "      <td>...</td>\n",
       "      <td>...</td>\n",
       "      <td>...</td>\n",
       "    </tr>\n",
       "    <tr>\n",
       "      <th>6802</th>\n",
       "      <td>7243</td>\n",
       "      <td>y10</td>\n",
       "      <td>Intolerance  Love s Struggle Throughout the Ages</td>\n",
       "      <td>Drama</td>\n",
       "    </tr>\n",
       "    <tr>\n",
       "      <th>6803</th>\n",
       "      <td>8511</td>\n",
       "      <td>y10</td>\n",
       "      <td>Immigrant  The</td>\n",
       "      <td>Comedy</td>\n",
       "    </tr>\n",
       "    <tr>\n",
       "      <th>6804</th>\n",
       "      <td>6988</td>\n",
       "      <td>y10</td>\n",
       "      <td>Broken Blossoms or The Yellow Man and the Girl</td>\n",
       "      <td>Drama Romance</td>\n",
       "    </tr>\n",
       "    <tr>\n",
       "      <th>6805</th>\n",
       "      <td>32898</td>\n",
       "      <td>y9</td>\n",
       "      <td>Trip to the Moon  A  Voyage dans la lune  Le</td>\n",
       "      <td>Action Adventure Fantasy Sci-Fi</td>\n",
       "    </tr>\n",
       "    <tr>\n",
       "      <th>6806</th>\n",
       "      <td>119145</td>\n",
       "      <td>y4</td>\n",
       "      <td>Kingsman  The Secret Service</td>\n",
       "      <td>Action Adventure Comedy Crime</td>\n",
       "    </tr>\n",
       "  </tbody>\n",
       "</table>\n",
       "<p>6807 rows × 4 columns</p>\n",
       "</div>"
      ],
      "text/plain": [
       "        item year                                              title  \\\n",
       "0       1348   y5  Nosferatu  Nosferatu  eine Symphonie des Graue...   \n",
       "1      44587   y5                               Nanook of the North    \n",
       "2       4768   y5  Dr  Mabuse  The Gambler  Dr  Mabuse  der Spiel...   \n",
       "3       8235   y5                                      Safety Last     \n",
       "4       8609   y5                                   Our Hospitality    \n",
       "...      ...  ...                                                ...   \n",
       "6802    7243  y10  Intolerance  Love s Struggle Throughout the Ages    \n",
       "6803    8511  y10                                    Immigrant  The    \n",
       "6804    6988  y10    Broken Blossoms or The Yellow Man and the Girl    \n",
       "6805   32898   y9     Trip to the Moon  A  Voyage dans la lune  Le     \n",
       "6806  119145   y4                      Kingsman  The Secret Service    \n",
       "\n",
       "                                genre  \n",
       "0                              Horror  \n",
       "1                   Documentary Drama  \n",
       "2              Crime Mystery Thriller  \n",
       "3               Action Comedy Romance  \n",
       "4                              Comedy  \n",
       "...                               ...  \n",
       "6802                            Drama  \n",
       "6803                           Comedy  \n",
       "6804                    Drama Romance  \n",
       "6805  Action Adventure Fantasy Sci-Fi  \n",
       "6806    Action Adventure Comedy Crime  \n",
       "\n",
       "[6807 rows x 4 columns]"
      ]
     },
     "execution_count": 7,
     "metadata": {},
     "output_type": "execute_result"
    }
   ],
   "source": [
    "joined_data = pd.merge(year_data, title_data, left_on='item', right_on='item', how='inner')\n",
    "joined_data = pd.merge(joined_data, genre_data, left_on='item', right_on='item', how='inner')\n",
    "joined_data"
   ]
  },
  {
   "cell_type": "code",
   "execution_count": 8,
   "metadata": {},
   "outputs": [],
   "source": [
    "def combined_features(row):\n",
    "    return row['year']+' '+row['title']+' '+row['genre']"
   ]
  },
  {
   "cell_type": "code",
   "execution_count": 9,
   "metadata": {},
   "outputs": [],
   "source": [
    "joined_data['combined'] = joined_data.apply(combined_features, axis =1)\n",
    "joined_data.sort_values('item', inplace=True)"
   ]
  },
  {
   "cell_type": "code",
   "execution_count": 10,
   "metadata": {},
   "outputs": [],
   "source": [
    "joined_data.to_csv(os.path.join(data_path, 'joined_data.csv'), index=False)"
   ]
  },
  {
   "cell_type": "markdown",
   "metadata": {},
   "source": [
    "### Group Director Data by Item"
   ]
  },
  {
   "cell_type": "code",
   "execution_count": 11,
   "metadata": {},
   "outputs": [
    {
     "name": "stderr",
     "output_type": "stream",
     "text": [
      "100%|██████████| 5503/5503 [00:00<00:00, 149219.39it/s]\n"
     ]
    },
    {
     "data": {
      "text/html": [
       "<div>\n",
       "<style scoped>\n",
       "    .dataframe tbody tr th:only-of-type {\n",
       "        vertical-align: middle;\n",
       "    }\n",
       "\n",
       "    .dataframe tbody tr th {\n",
       "        vertical-align: top;\n",
       "    }\n",
       "\n",
       "    .dataframe thead th {\n",
       "        text-align: right;\n",
       "    }\n",
       "</style>\n",
       "<table border=\"1\" class=\"dataframe\">\n",
       "  <thead>\n",
       "    <tr style=\"text-align: right;\">\n",
       "      <th></th>\n",
       "      <th>item</th>\n",
       "      <th>director</th>\n",
       "    </tr>\n",
       "  </thead>\n",
       "  <tbody>\n",
       "    <tr>\n",
       "      <th>0</th>\n",
       "      <td>1</td>\n",
       "      <td>nm0005124</td>\n",
       "    </tr>\n",
       "    <tr>\n",
       "      <th>1</th>\n",
       "      <td>2</td>\n",
       "      <td>nm0002653</td>\n",
       "    </tr>\n",
       "    <tr>\n",
       "      <th>2</th>\n",
       "      <td>3</td>\n",
       "      <td>nm0222043</td>\n",
       "    </tr>\n",
       "    <tr>\n",
       "      <th>3</th>\n",
       "      <td>4</td>\n",
       "      <td>nm0001845</td>\n",
       "    </tr>\n",
       "    <tr>\n",
       "      <th>4</th>\n",
       "      <td>5</td>\n",
       "      <td>nm0796124</td>\n",
       "    </tr>\n",
       "    <tr>\n",
       "      <th>...</th>\n",
       "      <td>...</td>\n",
       "      <td>...</td>\n",
       "    </tr>\n",
       "    <tr>\n",
       "      <th>5498</th>\n",
       "      <td>118696</td>\n",
       "      <td>nm0001392</td>\n",
       "    </tr>\n",
       "    <tr>\n",
       "      <th>5499</th>\n",
       "      <td>118900</td>\n",
       "      <td>nm0885249</td>\n",
       "    </tr>\n",
       "    <tr>\n",
       "      <th>5500</th>\n",
       "      <td>118997</td>\n",
       "      <td>nm0551128</td>\n",
       "    </tr>\n",
       "    <tr>\n",
       "      <th>5501</th>\n",
       "      <td>119141</td>\n",
       "      <td>nm0736622 nm1698571</td>\n",
       "    </tr>\n",
       "    <tr>\n",
       "      <th>5502</th>\n",
       "      <td>119145</td>\n",
       "      <td>nm0891216</td>\n",
       "    </tr>\n",
       "  </tbody>\n",
       "</table>\n",
       "<p>5503 rows × 2 columns</p>\n",
       "</div>"
      ],
      "text/plain": [
       "        item             director\n",
       "0          1            nm0005124\n",
       "1          2            nm0002653\n",
       "2          3            nm0222043\n",
       "3          4            nm0001845\n",
       "4          5            nm0796124\n",
       "...      ...                  ...\n",
       "5498  118696            nm0001392\n",
       "5499  118900            nm0885249\n",
       "5500  118997            nm0551128\n",
       "5501  119141  nm0736622 nm1698571\n",
       "5502  119145            nm0891216\n",
       "\n",
       "[5503 rows x 2 columns]"
      ]
     },
     "execution_count": 11,
     "metadata": {},
     "output_type": "execute_result"
    }
   ],
   "source": [
    "item_director_df = list(director_data.groupby('item')['director'])\n",
    "\n",
    "items = list()\n",
    "directors = list()\n",
    "\n",
    "for item, director_df in tqdm(item_director_df):\n",
    "    items.append(item)\n",
    "    directors.append(' '.join(list(director_df)))\n",
    "\n",
    "director_data = pd.DataFrame({'item': items, 'director': directors})\n",
    "director_data"
   ]
  },
  {
   "cell_type": "markdown",
   "metadata": {},
   "source": [
    "### Group Writer Data by Item"
   ]
  },
  {
   "cell_type": "code",
   "execution_count": 12,
   "metadata": {},
   "outputs": [
    {
     "name": "stderr",
     "output_type": "stream",
     "text": [
      "100%|██████████| 5648/5648 [00:00<00:00, 155558.81it/s]\n"
     ]
    },
    {
     "data": {
      "text/html": [
       "<div>\n",
       "<style scoped>\n",
       "    .dataframe tbody tr th:only-of-type {\n",
       "        vertical-align: middle;\n",
       "    }\n",
       "\n",
       "    .dataframe tbody tr th {\n",
       "        vertical-align: top;\n",
       "    }\n",
       "\n",
       "    .dataframe thead th {\n",
       "        text-align: right;\n",
       "    }\n",
       "</style>\n",
       "<table border=\"1\" class=\"dataframe\">\n",
       "  <thead>\n",
       "    <tr style=\"text-align: right;\">\n",
       "      <th></th>\n",
       "      <th>item</th>\n",
       "      <th>writer</th>\n",
       "    </tr>\n",
       "  </thead>\n",
       "  <tbody>\n",
       "    <tr>\n",
       "      <th>0</th>\n",
       "      <td>1</td>\n",
       "      <td>nm0004056 nm0005124 nm0169505 nm0230032 nm0710...</td>\n",
       "    </tr>\n",
       "    <tr>\n",
       "      <th>1</th>\n",
       "      <td>2</td>\n",
       "      <td>nm0378144 nm0852430 nm0885575</td>\n",
       "    </tr>\n",
       "    <tr>\n",
       "      <th>2</th>\n",
       "      <td>3</td>\n",
       "      <td>nm0425756</td>\n",
       "    </tr>\n",
       "    <tr>\n",
       "      <th>3</th>\n",
       "      <td>4</td>\n",
       "      <td>nm0060103</td>\n",
       "    </tr>\n",
       "    <tr>\n",
       "      <th>4</th>\n",
       "      <td>5</td>\n",
       "      <td>nm0329304 nm0352443 nm0583600 nm0796124</td>\n",
       "    </tr>\n",
       "    <tr>\n",
       "      <th>...</th>\n",
       "      <td>...</td>\n",
       "      <td>...</td>\n",
       "    </tr>\n",
       "    <tr>\n",
       "      <th>5643</th>\n",
       "      <td>118696</td>\n",
       "      <td>nm0001392 nm0101991 nm0866058 nm0868219 nm0909638</td>\n",
       "    </tr>\n",
       "    <tr>\n",
       "      <th>5644</th>\n",
       "      <td>118900</td>\n",
       "      <td>nm0394984</td>\n",
       "    </tr>\n",
       "    <tr>\n",
       "      <th>5645</th>\n",
       "      <td>118997</td>\n",
       "      <td>nm0487567</td>\n",
       "    </tr>\n",
       "    <tr>\n",
       "      <th>5646</th>\n",
       "      <td>119141</td>\n",
       "      <td>nm0736622 nm1698571</td>\n",
       "    </tr>\n",
       "    <tr>\n",
       "      <th>5647</th>\n",
       "      <td>119145</td>\n",
       "      <td>nm0891216 nm0963359 nm1733301 nm2092839</td>\n",
       "    </tr>\n",
       "  </tbody>\n",
       "</table>\n",
       "<p>5648 rows × 2 columns</p>\n",
       "</div>"
      ],
      "text/plain": [
       "        item                                             writer\n",
       "0          1  nm0004056 nm0005124 nm0169505 nm0230032 nm0710...\n",
       "1          2                      nm0378144 nm0852430 nm0885575\n",
       "2          3                                          nm0425756\n",
       "3          4                                          nm0060103\n",
       "4          5            nm0329304 nm0352443 nm0583600 nm0796124\n",
       "...      ...                                                ...\n",
       "5643  118696  nm0001392 nm0101991 nm0866058 nm0868219 nm0909638\n",
       "5644  118900                                          nm0394984\n",
       "5645  118997                                          nm0487567\n",
       "5646  119141                                nm0736622 nm1698571\n",
       "5647  119145            nm0891216 nm0963359 nm1733301 nm2092839\n",
       "\n",
       "[5648 rows x 2 columns]"
      ]
     },
     "execution_count": 12,
     "metadata": {},
     "output_type": "execute_result"
    }
   ],
   "source": [
    "item_writer_df = list(writer_data.groupby('item')['writer'])\n",
    "\n",
    "items = list()\n",
    "writers = list()\n",
    "\n",
    "for item, writer_df in tqdm(item_writer_df):\n",
    "    items.append(item)\n",
    "    writers.append(' '.join(list(writer_df)))\n",
    "\n",
    "writer_data = pd.DataFrame({'item': items, 'writer': writers})\n",
    "writer_data"
   ]
  },
  {
   "cell_type": "markdown",
   "metadata": {},
   "source": [
    "### Merge Year/Title/Genre/Director/Writer Data"
   ]
  },
  {
   "cell_type": "code",
   "execution_count": 29,
   "metadata": {},
   "outputs": [
    {
     "data": {
      "text/html": [
       "<div>\n",
       "<style scoped>\n",
       "    .dataframe tbody tr th:only-of-type {\n",
       "        vertical-align: middle;\n",
       "    }\n",
       "\n",
       "    .dataframe tbody tr th {\n",
       "        vertical-align: top;\n",
       "    }\n",
       "\n",
       "    .dataframe thead th {\n",
       "        text-align: right;\n",
       "    }\n",
       "</style>\n",
       "<table border=\"1\" class=\"dataframe\">\n",
       "  <thead>\n",
       "    <tr style=\"text-align: right;\">\n",
       "      <th></th>\n",
       "      <th>item</th>\n",
       "      <th>year</th>\n",
       "      <th>title</th>\n",
       "      <th>genre</th>\n",
       "      <th>director</th>\n",
       "      <th>writer</th>\n",
       "    </tr>\n",
       "  </thead>\n",
       "  <tbody>\n",
       "    <tr>\n",
       "      <th>0</th>\n",
       "      <td>1348</td>\n",
       "      <td>y5</td>\n",
       "      <td>Nosferatu  Nosferatu  eine Symphonie des Graue...</td>\n",
       "      <td>Horror</td>\n",
       "      <td>nm0003638</td>\n",
       "      <td>nm0831290</td>\n",
       "    </tr>\n",
       "    <tr>\n",
       "      <th>1</th>\n",
       "      <td>44587</td>\n",
       "      <td>y5</td>\n",
       "      <td>Nanook of the North</td>\n",
       "      <td>Documentary Drama</td>\n",
       "      <td></td>\n",
       "      <td></td>\n",
       "    </tr>\n",
       "    <tr>\n",
       "      <th>2</th>\n",
       "      <td>4768</td>\n",
       "      <td>y5</td>\n",
       "      <td>Dr  Mabuse  The Gambler  Dr  Mabuse  der Spiel...</td>\n",
       "      <td>Crime Mystery Thriller</td>\n",
       "      <td>nm0000485</td>\n",
       "      <td>nm0000485 nm0415167 nm0902376</td>\n",
       "    </tr>\n",
       "    <tr>\n",
       "      <th>3</th>\n",
       "      <td>8235</td>\n",
       "      <td>y5</td>\n",
       "      <td>Safety Last</td>\n",
       "      <td>Action Comedy Romance</td>\n",
       "      <td>nm0628345 nm0853130</td>\n",
       "      <td>nm0369841 nm0516001 nm0853130 nm0924065</td>\n",
       "    </tr>\n",
       "    <tr>\n",
       "      <th>4</th>\n",
       "      <td>8609</td>\n",
       "      <td>y5</td>\n",
       "      <td>Our Hospitality</td>\n",
       "      <td>Comedy</td>\n",
       "      <td>nm0000036</td>\n",
       "      <td>nm0115669 nm0369841 nm0593477</td>\n",
       "    </tr>\n",
       "    <tr>\n",
       "      <th>...</th>\n",
       "      <td>...</td>\n",
       "      <td>...</td>\n",
       "      <td>...</td>\n",
       "      <td>...</td>\n",
       "      <td>...</td>\n",
       "      <td>...</td>\n",
       "    </tr>\n",
       "    <tr>\n",
       "      <th>6802</th>\n",
       "      <td>7243</td>\n",
       "      <td>y10</td>\n",
       "      <td>Intolerance  Love s Struggle Throughout the Ages</td>\n",
       "      <td>Drama</td>\n",
       "      <td>nm0000428</td>\n",
       "      <td>nm0000428 nm0002616 nm0115218 nm0940488</td>\n",
       "    </tr>\n",
       "    <tr>\n",
       "      <th>6803</th>\n",
       "      <td>8511</td>\n",
       "      <td>y10</td>\n",
       "      <td>Immigrant  The</td>\n",
       "      <td>Comedy</td>\n",
       "      <td>nm0000122</td>\n",
       "      <td>nm0000122</td>\n",
       "    </tr>\n",
       "    <tr>\n",
       "      <th>6804</th>\n",
       "      <td>6988</td>\n",
       "      <td>y10</td>\n",
       "      <td>Broken Blossoms or The Yellow Man and the Girl</td>\n",
       "      <td>Drama Romance</td>\n",
       "      <td>nm0000428</td>\n",
       "      <td>nm0000428</td>\n",
       "    </tr>\n",
       "    <tr>\n",
       "      <th>6805</th>\n",
       "      <td>32898</td>\n",
       "      <td>y9</td>\n",
       "      <td>Trip to the Moon  A  Voyage dans la lune  Le</td>\n",
       "      <td>Action Adventure Fantasy Sci-Fi</td>\n",
       "      <td></td>\n",
       "      <td>nm0894523 nm0920229</td>\n",
       "    </tr>\n",
       "    <tr>\n",
       "      <th>6806</th>\n",
       "      <td>119145</td>\n",
       "      <td>y4</td>\n",
       "      <td>Kingsman  The Secret Service</td>\n",
       "      <td>Action Adventure Comedy Crime</td>\n",
       "      <td>nm0891216</td>\n",
       "      <td>nm0891216 nm0963359 nm1733301 nm2092839</td>\n",
       "    </tr>\n",
       "  </tbody>\n",
       "</table>\n",
       "<p>6807 rows × 6 columns</p>\n",
       "</div>"
      ],
      "text/plain": [
       "        item year                                              title  \\\n",
       "0       1348   y5  Nosferatu  Nosferatu  eine Symphonie des Graue...   \n",
       "1      44587   y5                               Nanook of the North    \n",
       "2       4768   y5  Dr  Mabuse  The Gambler  Dr  Mabuse  der Spiel...   \n",
       "3       8235   y5                                      Safety Last     \n",
       "4       8609   y5                                   Our Hospitality    \n",
       "...      ...  ...                                                ...   \n",
       "6802    7243  y10  Intolerance  Love s Struggle Throughout the Ages    \n",
       "6803    8511  y10                                    Immigrant  The    \n",
       "6804    6988  y10    Broken Blossoms or The Yellow Man and the Girl    \n",
       "6805   32898   y9     Trip to the Moon  A  Voyage dans la lune  Le     \n",
       "6806  119145   y4                      Kingsman  The Secret Service    \n",
       "\n",
       "                                genre             director  \\\n",
       "0                              Horror            nm0003638   \n",
       "1                   Documentary Drama                        \n",
       "2              Crime Mystery Thriller            nm0000485   \n",
       "3               Action Comedy Romance  nm0628345 nm0853130   \n",
       "4                              Comedy            nm0000036   \n",
       "...                               ...                  ...   \n",
       "6802                            Drama            nm0000428   \n",
       "6803                           Comedy            nm0000122   \n",
       "6804                    Drama Romance            nm0000428   \n",
       "6805  Action Adventure Fantasy Sci-Fi                        \n",
       "6806    Action Adventure Comedy Crime            nm0891216   \n",
       "\n",
       "                                       writer  \n",
       "0                                   nm0831290  \n",
       "1                                              \n",
       "2               nm0000485 nm0415167 nm0902376  \n",
       "3     nm0369841 nm0516001 nm0853130 nm0924065  \n",
       "4               nm0115669 nm0369841 nm0593477  \n",
       "...                                       ...  \n",
       "6802  nm0000428 nm0002616 nm0115218 nm0940488  \n",
       "6803                                nm0000122  \n",
       "6804                                nm0000428  \n",
       "6805                      nm0894523 nm0920229  \n",
       "6806  nm0891216 nm0963359 nm1733301 nm2092839  \n",
       "\n",
       "[6807 rows x 6 columns]"
      ]
     },
     "execution_count": 29,
     "metadata": {},
     "output_type": "execute_result"
    }
   ],
   "source": [
    "joined_data = pd.merge(year_data, title_data, left_on='item', right_on='item', how='inner')\n",
    "joined_data = pd.merge(joined_data, genre_data, left_on='item', right_on='item', how='inner')\n",
    "joined_data = pd.merge(joined_data, director_data, left_on='item', right_on='item', how='left')\n",
    "joined_data = pd.merge(joined_data, writer_data, left_on='item', right_on='item', how='left')\n",
    "for feature in ['director','writer']:\n",
    "    joined_data[feature] = joined_data[feature].fillna('')\n",
    "joined_data"
   ]
  },
  {
   "cell_type": "code",
   "execution_count": 30,
   "metadata": {},
   "outputs": [],
   "source": [
    "def combined_features(row):\n",
    "    return row['year']+' '+row['title']+' '+row['genre']+' '+row['director']+' '+row['writer']"
   ]
  },
  {
   "cell_type": "code",
   "execution_count": 31,
   "metadata": {},
   "outputs": [],
   "source": [
    "joined_data['combined'] = joined_data.apply(combined_features, axis =1)\n",
    "joined_data.sort_values('item', inplace=True)"
   ]
  },
  {
   "cell_type": "code",
   "execution_count": 32,
   "metadata": {},
   "outputs": [],
   "source": [
    "joined_data.to_csv(os.path.join(data_path, 'joined_data-2.csv'), index=False)"
   ]
  },
  {
   "cell_type": "markdown",
   "metadata": {},
   "source": [
    "### Inference"
   ]
  },
  {
   "cell_type": "code",
   "execution_count": 33,
   "metadata": {},
   "outputs": [],
   "source": [
    "def preprocess(df) :\n",
    "    print(\"preprocessing..\")\n",
    "    df = df.sort_values(['user', 'time'], ascending = [True, True])\n",
    "\n",
    "    users = df['user'].unique()\n",
    "    user_to_id = dict(zip(users, range(len(users))))\n",
    "    id_to_user = {v: k for k, v in user_to_id.items()}\n",
    "    \n",
    "    movies = df['item'].unique()\n",
    "    movie_to_id = dict(zip(movies, range(len(movies))))\n",
    "    id_to_movie = {v: k for k, v in movie_to_id.items()}\n",
    "    \n",
    "    df['user'] = df['user'].apply(lambda x : user_to_id[x])\n",
    "    df['item'] = df['item'].apply(lambda x : movie_to_id[x])\n",
    "\n",
    "    return df, user_to_id, id_to_user, movie_to_id, id_to_movie"
   ]
  },
  {
   "cell_type": "code",
   "execution_count": 24,
   "metadata": {},
   "outputs": [
    {
     "name": "stdout",
     "output_type": "stream",
     "text": [
      "preprocessing..\n"
     ]
    }
   ],
   "source": [
    "df = pd.read_csv(os.path.join(data_path, 'train_ratings.csv'), sep=',')\n",
    "df, user_to_id, id_to_user, movie_to_id, id_to_movie = preprocess(df)\n",
    "joined_data = pd.read_csv(os.path.join(data_path, 'joined_data-2.csv'))\n",
    "joined_data['item'] = joined_data['item'].apply(lambda x : movie_to_id[x])\n",
    "joined_data.sort_values('item', inplace=True)"
   ]
  },
  {
   "cell_type": "code",
   "execution_count": 34,
   "metadata": {},
   "outputs": [
    {
     "data": {
      "text/plain": [
       "(6807, 6807)"
      ]
     },
     "execution_count": 34,
     "metadata": {},
     "output_type": "execute_result"
    }
   ],
   "source": [
    "vectorizer = CountVectorizer(stop_words=[\"and\", \"is\", \"the\", \"of\", \"for\", \"to\", \"in\", \"on\", \"with\", \"from\", \"at\"])\n",
    "count_matrix = vectorizer.fit_transform(joined_data['combined'].values)\n",
    "cosine_sim = cosine_similarity(count_matrix)\n",
    "cosine_sim.shape"
   ]
  },
  {
   "cell_type": "code",
   "execution_count": 37,
   "metadata": {},
   "outputs": [
    {
     "data": {
      "text/html": [
       "<div>\n",
       "<style scoped>\n",
       "    .dataframe tbody tr th:only-of-type {\n",
       "        vertical-align: middle;\n",
       "    }\n",
       "\n",
       "    .dataframe tbody tr th {\n",
       "        vertical-align: top;\n",
       "    }\n",
       "\n",
       "    .dataframe thead th {\n",
       "        text-align: right;\n",
       "    }\n",
       "</style>\n",
       "<table border=\"1\" class=\"dataframe\">\n",
       "  <thead>\n",
       "    <tr style=\"text-align: right;\">\n",
       "      <th></th>\n",
       "      <th>word</th>\n",
       "      <th>freq</th>\n",
       "    </tr>\n",
       "  </thead>\n",
       "  <tbody>\n",
       "    <tr>\n",
       "      <th>1921</th>\n",
       "      <td>drama</td>\n",
       "      <td>3491</td>\n",
       "    </tr>\n",
       "    <tr>\n",
       "      <th>10885</th>\n",
       "      <td>y3</td>\n",
       "      <td>2493</td>\n",
       "    </tr>\n",
       "    <tr>\n",
       "      <th>1369</th>\n",
       "      <td>comedy</td>\n",
       "      <td>2413</td>\n",
       "    </tr>\n",
       "    <tr>\n",
       "      <th>10881</th>\n",
       "      <td>y1</td>\n",
       "      <td>1532</td>\n",
       "    </tr>\n",
       "    <tr>\n",
       "      <th>10169</th>\n",
       "      <td>thriller</td>\n",
       "      <td>1466</td>\n",
       "    </tr>\n",
       "    <tr>\n",
       "      <th>9126</th>\n",
       "      <td>romance</td>\n",
       "      <td>1255</td>\n",
       "    </tr>\n",
       "    <tr>\n",
       "      <th>134</th>\n",
       "      <td>action</td>\n",
       "      <td>1249</td>\n",
       "    </tr>\n",
       "    <tr>\n",
       "      <th>1527</th>\n",
       "      <td>crime</td>\n",
       "      <td>930</td>\n",
       "    </tr>\n",
       "    <tr>\n",
       "      <th>152</th>\n",
       "      <td>adventure</td>\n",
       "      <td>899</td>\n",
       "    </tr>\n",
       "    <tr>\n",
       "      <th>10884</th>\n",
       "      <td>y2</td>\n",
       "      <td>830</td>\n",
       "    </tr>\n",
       "  </tbody>\n",
       "</table>\n",
       "</div>"
      ],
      "text/plain": [
       "            word  freq\n",
       "1921       drama  3491\n",
       "10885         y3  2493\n",
       "1369      comedy  2413\n",
       "10881         y1  1532\n",
       "10169   thriller  1466\n",
       "9126     romance  1255\n",
       "134       action  1249\n",
       "1527       crime   930\n",
       "152    adventure   899\n",
       "10884         y2   830"
      ]
     },
     "execution_count": 37,
     "metadata": {},
     "output_type": "execute_result"
    }
   ],
   "source": [
    "word = vectorizer.get_feature_names_out()\n",
    "freq = list(count_matrix.toarray().sum(axis=0))\n",
    "word_df = pd.DataFrame({'word':word, 'freq':freq})\n",
    "word_df.sort_values('freq', ascending=False)[:10]"
   ]
  },
  {
   "cell_type": "code",
   "execution_count": 38,
   "metadata": {},
   "outputs": [],
   "source": [
    "user_item_dfs = list(df.groupby('user')['item'])"
   ]
  },
  {
   "cell_type": "code",
   "execution_count": 39,
   "metadata": {},
   "outputs": [
    {
     "name": "stderr",
     "output_type": "stream",
     "text": [
      "100%|██████████| 31360/31360 [02:01<00:00, 259.07it/s]\n"
     ]
    }
   ],
   "source": [
    "sub_u = []\n",
    "sub_i = []\n",
    "\n",
    "for user_id, item_df in tqdm(user_item_dfs):\n",
    "    result = cosine_sim[item_df].sum(axis=0)\n",
    "    ranking = np.argsort(result)[::-1]\n",
    "\n",
    "    pred = []\n",
    "    for item_id in ranking :\n",
    "        if item_id in item_df.values :\n",
    "            continue\n",
    "        u = id_to_user[int(user_id)]\n",
    "        i = id_to_movie[int(item_id)]\n",
    "        sub_u.append(u)\n",
    "        sub_i.append(i)\n",
    "        pred.append(i)\n",
    "        if len(pred) == 10 :\n",
    "            break"
   ]
  },
  {
   "cell_type": "code",
   "execution_count": 40,
   "metadata": {},
   "outputs": [],
   "source": [
    "submission = {\"user\" : sub_u, \"item\" : sub_i}\n",
    "submission_df = pd.DataFrame(submission)\n",
    "submission_df.to_csv(f'/opt/ml/movie-recommendation/BPR/output/item-based-cossim-2.csv', index=False)"
   ]
  }
 ],
 "metadata": {
  "interpreter": {
   "hash": "3ea19d11efa7602c1f12500925a974ed4f31fcf847bd6f694bd5180da2602ded"
  },
  "kernelspec": {
   "display_name": "Python 3.8.12 ('py38')",
   "language": "python",
   "name": "python3"
  },
  "language_info": {
   "codemirror_mode": {
    "name": "ipython",
    "version": 3
   },
   "file_extension": ".py",
   "mimetype": "text/x-python",
   "name": "python",
   "nbconvert_exporter": "python",
   "pygments_lexer": "ipython3",
   "version": "3.8.12"
  },
  "orig_nbformat": 4
 },
 "nbformat": 4,
 "nbformat_minor": 2
}
