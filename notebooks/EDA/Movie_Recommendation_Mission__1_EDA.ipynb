{
  "cells": [
    {
      "cell_type": "markdown",
      "id": "45053aa1",
      "metadata": {
        "id": "45053aa1"
      },
      "source": [
        "# Movie Recommendation - Mission 1\n",
        "\n",
        "### Movielense Dataset EDA\n",
        "\n",
        "\n",
        "EDA(Exploratory Data Analysis)는 데이터셋을 다양한 각도에서 관찰하고 인사이트를 얻을 수 있는 중요한 데이터 분석 과정입니다. 이를 잘 수행하여 데이터의 특징과 분포에 대해 깊은 이해도를 가진다면, 모델의 성능에도 큰 영향을 끼칠 수 있습니다.\n",
        "\n",
        "본 미션에서는 Movie Recommendation 대회\b를 위해 제공되는 [movielens](https://grouplens.org/datasets/movielens/) 를 재구성한 대회 데이터셋에 대한 EDA를 진행하고, 학습 데이터에 더불어 영화의 side-information 데이터에 대해 이해하는 시간을 가져보겠습니다!"
      ]
    },
    {
      "cell_type": "markdown",
      "id": "b28aa9ba",
      "metadata": {
        "id": "b28aa9ba"
      },
      "source": [
        "## 대회 데이터셋 구성\n",
        "먼저 데이터셋의 구성을 살펴봅니다.\n",
        "\n",
        "### data\n",
        "    ├── directors.tsv\n",
        "    ├── genres.tsv\n",
        "    ├── titles.tsv\n",
        "    ├── train_ratings.csv\n",
        "    ├── writers.tsv\n",
        "    └── years.tsv\n",
        "    \n",
        "1. *train_ratings.csv* : 전체 훈련 데이터.\n",
        "2. *directors.tsv*, *genres.tsv*, *writers.tsv*, *years.tsv*, *titles.tsv* : 영화의 side-information 데이터."
      ]
    },
    {
      "cell_type": "markdown",
      "id": "5ded44aa",
      "metadata": {
        "id": "5ded44aa"
      },
      "source": [
        "## train/test 데이터셋 알아보기"
      ]
    },
    {
      "cell_type": "markdown",
      "id": "1ae0ba40",
      "metadata": {
        "id": "1ae0ba40"
      },
      "source": [
        "Pandas를 이용하여 train 데이터를 로드하고 데이터 구성을 알아봅니다. 이어지는 코드를 실행하면 데이터셋의 간략한 정보와 샘플을 확인할 수 있습니다.\n",
        "\n",
        "train 데이터셋은 *user, item, time* 세개의 column으로 구성된 반면, test 데이터셋은 *user* column과 비어있는 *item* column으로 구성되어 있음을 참고해 주세요. 대회 진행시, 각각의 사용자에게 10개의 영화를 추천하게 됩니다.\n",
        "\n",
        "각 column은 다음을 나타냅니다.\n",
        "- *user*: 사용자 id.\n",
        "- *item*: 영화 id.\n",
        "- *time*: 사용자가 해당 영화와 interact한 시간. (UNIX시간의 초 단위)\n",
        "\n",
        "영화 id는 *directors.tsv, genres.tsv, writers.tsv, years.tsv, titles.tsv*에서도 일관적으로 사용됩니다. 즉, 동일한 영화 id는 side information 데이터셋에서 동일한 영화를 나타냅니다.\n",
        "\n",
        "이어지는 cell들을 실행해서 직접 관찰해보세요!"
      ]
    },
    {
      "cell_type": "markdown",
      "id": "HBz2c1NDjzNx",
      "metadata": {
        "id": "HBz2c1NDjzNx"
      },
      "source": [
        "## 데이터 다운로드\n",
        "이곳에 대회 사이트(AI Stages)에 있는 data의 URL을 입력해주세요. \n",
        "- 데이터 URL은 변경될 수 있습니다.\n",
        "- 예) `!wget https://aistages-prod-server-public.s3.amazonaws.com/app/Competitions/000176/data/data.tar.gz`"
      ]
    },
    {
      "cell_type": "code",
      "execution_count": 1,
      "id": "7sOZ6xAXLbnC",
      "metadata": {
        "id": "7sOZ6xAXLbnC"
      },
      "outputs": [
        {
          "name": "stdout",
          "output_type": "stream",
          "text": [
            "/bin/bash: -c: line 0: syntax error near unexpected token `newline'\n",
            "/bin/bash: -c: line 0: `wget <대회 데이터 URL>'\n",
            "tar: data.tar.gz: Cannot open: No such file or directory\n",
            "tar: Error is not recoverable: exiting now\n"
          ]
        }
      ],
      "source": [
        "!wget <대회 데이터 URL>\n",
        "!tar -xf data.tar.gz"
      ]
    },
    {
      "cell_type": "code",
      "execution_count": 2,
      "id": "063a71d8",
      "metadata": {
        "id": "063a71d8"
      },
      "outputs": [],
      "source": [
        "import pandas as pd\n",
        "import numpy as np\n",
        "import os"
      ]
    },
    {
      "cell_type": "code",
      "execution_count": 3,
      "id": "2395a275",
      "metadata": {
        "id": "2395a275"
      },
      "outputs": [],
      "source": [
        "data_path = '/opt/ml/input/data/train'\n",
        "train_df = pd.read_csv(os.path.join(data_path, 'train_ratings.csv')) # 전체 학습 데이터"
      ]
    },
    {
      "cell_type": "code",
      "execution_count": 4,
      "id": "d82cb038",
      "metadata": {
        "id": "d82cb038"
      },
      "outputs": [
        {
          "name": "stdout",
          "output_type": "stream",
          "text": [
            "<class 'pandas.core.frame.DataFrame'>\n",
            "RangeIndex: 5154471 entries, 0 to 5154470\n",
            "Data columns (total 3 columns):\n",
            " #   Column  Dtype\n",
            "---  ------  -----\n",
            " 0   user    int64\n",
            " 1   item    int64\n",
            " 2   time    int64\n",
            "dtypes: int64(3)\n",
            "memory usage: 118.0 MB\n"
          ]
        },
        {
          "data": {
            "text/html": [
              "<div>\n",
              "<style scoped>\n",
              "    .dataframe tbody tr th:only-of-type {\n",
              "        vertical-align: middle;\n",
              "    }\n",
              "\n",
              "    .dataframe tbody tr th {\n",
              "        vertical-align: top;\n",
              "    }\n",
              "\n",
              "    .dataframe thead th {\n",
              "        text-align: right;\n",
              "    }\n",
              "</style>\n",
              "<table border=\"1\" class=\"dataframe\">\n",
              "  <thead>\n",
              "    <tr style=\"text-align: right;\">\n",
              "      <th></th>\n",
              "      <th>user</th>\n",
              "      <th>item</th>\n",
              "      <th>time</th>\n",
              "    </tr>\n",
              "  </thead>\n",
              "  <tbody>\n",
              "    <tr>\n",
              "      <th>0</th>\n",
              "      <td>11</td>\n",
              "      <td>4643</td>\n",
              "      <td>1230782529</td>\n",
              "    </tr>\n",
              "    <tr>\n",
              "      <th>1</th>\n",
              "      <td>11</td>\n",
              "      <td>170</td>\n",
              "      <td>1230782534</td>\n",
              "    </tr>\n",
              "    <tr>\n",
              "      <th>2</th>\n",
              "      <td>11</td>\n",
              "      <td>531</td>\n",
              "      <td>1230782539</td>\n",
              "    </tr>\n",
              "    <tr>\n",
              "      <th>3</th>\n",
              "      <td>11</td>\n",
              "      <td>616</td>\n",
              "      <td>1230782542</td>\n",
              "    </tr>\n",
              "    <tr>\n",
              "      <th>4</th>\n",
              "      <td>11</td>\n",
              "      <td>2140</td>\n",
              "      <td>1230782563</td>\n",
              "    </tr>\n",
              "  </tbody>\n",
              "</table>\n",
              "</div>"
            ],
            "text/plain": [
              "   user  item        time\n",
              "0    11  4643  1230782529\n",
              "1    11   170  1230782534\n",
              "2    11   531  1230782539\n",
              "3    11   616  1230782542\n",
              "4    11  2140  1230782563"
            ]
          },
          "execution_count": 4,
          "metadata": {},
          "output_type": "execute_result"
        }
      ],
      "source": [
        "train_df.info()\n",
        "train_df.head(5)"
      ]
    },
    {
      "cell_type": "code",
      "execution_count": 5,
      "id": "ade4818e",
      "metadata": {
        "id": "ade4818e"
      },
      "outputs": [
        {
          "name": "stdout",
          "output_type": "stream",
          "text": [
            "Number of unique train users:  31360\n",
            "Number of unique train items:  6807\n"
          ]
        }
      ],
      "source": [
        "num_train_users = train_df['user'].nunique()\n",
        "num_train_items = train_df['item'].nunique()\n",
        "\n",
        "print (\"Number of unique train users: \", num_train_users)\n",
        "print (\"Number of unique train items: \", num_train_items)"
      ]
    },
    {
      "cell_type": "code",
      "execution_count": 6,
      "id": "e70feca4",
      "metadata": {
        "id": "e70feca4"
      },
      "outputs": [
        {
          "name": "stdout",
          "output_type": "stream",
          "text": [
            "Data sparsity ratio:  0.9758536052697853\n"
          ]
        }
      ],
      "source": [
        "print(\"Data sparsity ratio: \", 1 - len(train_df) / (num_train_users * num_train_items))"
      ]
    },
    {
      "cell_type": "markdown",
      "id": "0c59f9d8",
      "metadata": {
        "id": "0c59f9d8"
      },
      "source": [
        "데이터의 sparsity ratio는 약 97.6%로 일반적인 추천 시스템 데이터셋에 비해 굉장히 dense한 (행렬 상 이력의 많은 부분이 채워져 있는) 데이터임을 알 수 있습니다."
      ]
    },
    {
      "cell_type": "markdown",
      "id": "88d60816",
      "metadata": {
        "id": "88d60816"
      },
      "source": [
        "## Side Information 알아보기"
      ]
    },
    {
      "cell_type": "markdown",
      "id": "55547258",
      "metadata": {
        "id": "55547258"
      },
      "source": [
        "다음은 side information 데이터를 알아봅니다. 일반적으로 추천시스템에서는 side information을 더욱 잘 활용할수록 더 좋은 추천 결과를 얻을 수 있게 됩니다.\n",
        "\n",
        "주어진 year, writer, title, genre, director 데이터를 불러옵니다. 마찬가지로 각 데이터의 간략한 정보를 확인하고 샘플을 미리 저장해보겠습니다. 샘플된 데이터는 뒤에서도 계속 사용할 예정인 점을 참고해주세요! 그럼 다음 코드를 실행해보겠습니다."
      ]
    },
    {
      "cell_type": "code",
      "execution_count": 7,
      "id": "b20edc66",
      "metadata": {
        "id": "b20edc66"
      },
      "outputs": [],
      "source": [
        "year_data = pd.read_csv(os.path.join(data_path, 'years.tsv'), sep='\\t')\n",
        "writer_data = pd.read_csv(os.path.join(data_path, 'writers.tsv'), sep='\\t')\n",
        "title_data = pd.read_csv(os.path.join(data_path, 'titles.tsv'), sep='\\t')\n",
        "genre_data = pd.read_csv(os.path.join(data_path, 'genres.tsv'), sep='\\t')\n",
        "director_data = pd.read_csv(os.path.join(data_path, 'directors.tsv'), sep='\\t')"
      ]
    },
    {
      "cell_type": "markdown",
      "id": "ca522257",
      "metadata": {
        "id": "ca522257"
      },
      "source": [
        "그러면 먼저 *years.tsv* 데이터를 알아보겠습니다. \n",
        "각 column은 다음과 같은 정보를 담고 있습니다:\n",
        "- *item* : 영화 id.\n",
        "- *year* : 해당 영화가 개봉한 연도.\n",
        "\n",
        "다음 코드를 실행하여 각 column의 data type과 같은 정보를 파악하고, 샘플 데이터를 출력해봅니다.\n",
        "\n",
        "그리고 바로 이어지는 cell을 실행하여 추가적인 통계도 확인합니다. 데이터셋에 한 번 이상 출현하는 영화 작품은 총 6799편이며 평균 개봉 연도는 1992년인 등의 정보를 파악할 수 있습니다."
      ]
    },
    {
      "cell_type": "code",
      "execution_count": 8,
      "id": "49f7373b",
      "metadata": {
        "id": "49f7373b"
      },
      "outputs": [
        {
          "name": "stdout",
          "output_type": "stream",
          "text": [
            "<class 'pandas.core.frame.DataFrame'>\n",
            "RangeIndex: 6799 entries, 0 to 6798\n",
            "Data columns (total 2 columns):\n",
            " #   Column  Non-Null Count  Dtype\n",
            "---  ------  --------------  -----\n",
            " 0   item    6799 non-null   int64\n",
            " 1   year    6799 non-null   int64\n",
            "dtypes: int64(2)\n",
            "memory usage: 106.4 KB\n"
          ]
        },
        {
          "data": {
            "text/html": [
              "<div>\n",
              "<style scoped>\n",
              "    .dataframe tbody tr th:only-of-type {\n",
              "        vertical-align: middle;\n",
              "    }\n",
              "\n",
              "    .dataframe tbody tr th {\n",
              "        vertical-align: top;\n",
              "    }\n",
              "\n",
              "    .dataframe thead th {\n",
              "        text-align: right;\n",
              "    }\n",
              "</style>\n",
              "<table border=\"1\" class=\"dataframe\">\n",
              "  <thead>\n",
              "    <tr style=\"text-align: right;\">\n",
              "      <th></th>\n",
              "      <th>item</th>\n",
              "      <th>year</th>\n",
              "    </tr>\n",
              "  </thead>\n",
              "  <tbody>\n",
              "    <tr>\n",
              "      <th>0</th>\n",
              "      <td>1348</td>\n",
              "      <td>1922</td>\n",
              "    </tr>\n",
              "    <tr>\n",
              "      <th>1</th>\n",
              "      <td>44587</td>\n",
              "      <td>1922</td>\n",
              "    </tr>\n",
              "    <tr>\n",
              "      <th>2</th>\n",
              "      <td>4768</td>\n",
              "      <td>1922</td>\n",
              "    </tr>\n",
              "    <tr>\n",
              "      <th>3</th>\n",
              "      <td>8235</td>\n",
              "      <td>1923</td>\n",
              "    </tr>\n",
              "    <tr>\n",
              "      <th>4</th>\n",
              "      <td>8609</td>\n",
              "      <td>1923</td>\n",
              "    </tr>\n",
              "  </tbody>\n",
              "</table>\n",
              "</div>"
            ],
            "text/plain": [
              "    item  year\n",
              "0   1348  1922\n",
              "1  44587  1922\n",
              "2   4768  1922\n",
              "3   8235  1923\n",
              "4   8609  1923"
            ]
          },
          "execution_count": 8,
          "metadata": {},
          "output_type": "execute_result"
        }
      ],
      "source": [
        "year_data.info()\n",
        "year_data.head(5)"
      ]
    },
    {
      "cell_type": "code",
      "execution_count": 9,
      "id": "b3a7219e",
      "metadata": {
        "id": "b3a7219e"
      },
      "outputs": [
        {
          "name": "stdout",
          "output_type": "stream",
          "text": [
            "Year data shape:  (6799, 2)\n",
            "Number of unique items in year_df:  6799\n",
            "Number of unique years:  93\n",
            "\n",
            "Statistics of year data: \n"
          ]
        },
        {
          "data": {
            "text/plain": [
              "count    6799.000000\n",
              "mean     1992.174732\n",
              "std        19.052568\n",
              "min      1922.000000\n",
              "25%      1985.000000\n",
              "50%      1999.000000\n",
              "75%      2006.000000\n",
              "max      2014.000000\n",
              "Name: year, dtype: float64"
            ]
          },
          "execution_count": 9,
          "metadata": {},
          "output_type": "execute_result"
        }
      ],
      "source": [
        "print (\"Year data shape: \", year_data.shape)\n",
        "print(\"Number of unique items in year_df: \", year_data['item'].nunique())\n",
        "print(\"Number of unique years: \", year_data['year'].nunique())\n",
        "print (\"\\nStatistics of year data: \")\n",
        "year_data['year'].describe()"
      ]
    },
    {
      "cell_type": "code",
      "execution_count": 10,
      "id": "d1d8c1d2",
      "metadata": {},
      "outputs": [
        {
          "data": {
            "text/plain": [
              "[6987, 3310, 7243, 8511, 32898, 7065, 119145, 6988]"
            ]
          },
          "execution_count": 10,
          "metadata": {},
          "output_type": "execute_result"
        }
      ],
      "source": [
        "item_ids = train_df['item'].unique() \n",
        "no_year_data_items = list()\n",
        "for item_id in item_ids :\n",
        "    if item_id not in year_data['item'].unique() :\n",
        "        no_year_data_items.append(item_id)\n",
        "no_year_data_items"
      ]
    },
    {
      "cell_type": "markdown",
      "id": "b3c7ccda",
      "metadata": {
        "id": "b3c7ccda"
      },
      "source": [
        "다음은 *writers.tsv* 데이터입니다. \n",
        "각 column은 다음과 같은 정보를 담고 있습니다:\n",
        "- *item* : 영화 id.\n",
        "- *writer* : 영화의 각본가. (익명화)\n",
        "\n",
        "다음 코드를 실행하여 각 column의 data type과 같은 정보를 파악하고, 샘플 데이터를 출력해봅니다."
      ]
    },
    {
      "cell_type": "code",
      "execution_count": 11,
      "id": "25f596a7",
      "metadata": {
        "id": "25f596a7"
      },
      "outputs": [
        {
          "name": "stdout",
          "output_type": "stream",
          "text": [
            "<class 'pandas.core.frame.DataFrame'>\n",
            "RangeIndex: 11306 entries, 0 to 11305\n",
            "Data columns (total 2 columns):\n",
            " #   Column  Non-Null Count  Dtype \n",
            "---  ------  --------------  ----- \n",
            " 0   item    11306 non-null  int64 \n",
            " 1   writer  11306 non-null  object\n",
            "dtypes: int64(1), object(1)\n",
            "memory usage: 176.8+ KB\n"
          ]
        },
        {
          "data": {
            "text/html": [
              "<div>\n",
              "<style scoped>\n",
              "    .dataframe tbody tr th:only-of-type {\n",
              "        vertical-align: middle;\n",
              "    }\n",
              "\n",
              "    .dataframe tbody tr th {\n",
              "        vertical-align: top;\n",
              "    }\n",
              "\n",
              "    .dataframe thead th {\n",
              "        text-align: right;\n",
              "    }\n",
              "</style>\n",
              "<table border=\"1\" class=\"dataframe\">\n",
              "  <thead>\n",
              "    <tr style=\"text-align: right;\">\n",
              "      <th></th>\n",
              "      <th>item</th>\n",
              "      <th>writer</th>\n",
              "    </tr>\n",
              "  </thead>\n",
              "  <tbody>\n",
              "    <tr>\n",
              "      <th>0</th>\n",
              "      <td>1237</td>\n",
              "      <td>nm0000005</td>\n",
              "    </tr>\n",
              "    <tr>\n",
              "      <th>1</th>\n",
              "      <td>5147</td>\n",
              "      <td>nm0000005</td>\n",
              "    </tr>\n",
              "  </tbody>\n",
              "</table>\n",
              "</div>"
            ],
            "text/plain": [
              "   item     writer\n",
              "0  1237  nm0000005\n",
              "1  5147  nm0000005"
            ]
          },
          "execution_count": 11,
          "metadata": {},
          "output_type": "execute_result"
        }
      ],
      "source": [
        "writer_data.info()\n",
        "writer_data.head(2)"
      ]
    },
    {
      "cell_type": "code",
      "execution_count": 12,
      "id": "afdf23ce",
      "metadata": {},
      "outputs": [
        {
          "name": "stdout",
          "output_type": "stream",
          "text": [
            "Writer data shape:  (11306, 2)\n",
            "Number of unique items in writer_df:  5648\n",
            "Number of unique writers:  2989\n",
            "\n",
            "Statistics of writer data: \n"
          ]
        },
        {
          "data": {
            "text/plain": [
              "count         11306\n",
              "unique         2989\n",
              "top       nm0000095\n",
              "freq             47\n",
              "Name: writer, dtype: object"
            ]
          },
          "execution_count": 12,
          "metadata": {},
          "output_type": "execute_result"
        }
      ],
      "source": [
        "print (\"Writer data shape: \", writer_data.shape)\n",
        "print(\"Number of unique items in writer_df: \", writer_data['item'].nunique())\n",
        "print(\"Number of unique writers: \", writer_data['writer'].nunique())\n",
        "print (\"\\nStatistics of writer data: \")\n",
        "writer_data['writer'].describe()"
      ]
    },
    {
      "cell_type": "code",
      "execution_count": 13,
      "id": "4b1a8aff",
      "metadata": {},
      "outputs": [
        {
          "data": {
            "text/plain": [
              "2988"
            ]
          },
          "execution_count": 13,
          "metadata": {},
          "output_type": "execute_result"
        }
      ],
      "source": [
        "multi_writers_items = list()\n",
        "for item_id in item_ids :\n",
        "    writers = writer_data[writer_data['item']==item_id]\n",
        "    if len(writers) >= 2 :\n",
        "        multi_writers_items.append(item_id)\n",
        "len(multi_writers_items)"
      ]
    },
    {
      "cell_type": "markdown",
      "id": "8395305b",
      "metadata": {
        "id": "8395305b"
      },
      "source": [
        "다음은 *titles.tsv* 데이터입니다. \n",
        "각 column은 다음과 같은 정보를 담고 있습니다:\n",
        "- *item* : 영화 id.\n",
        "- *titles* : 영화 제목.\n",
        "\n",
        "다음 코드를 실행하여 각 column의 data type과 같은 정보를 파악하고, 샘플 데이터를 출력해봅니다."
      ]
    },
    {
      "cell_type": "code",
      "execution_count": 14,
      "id": "46ff3ecf",
      "metadata": {
        "id": "46ff3ecf"
      },
      "outputs": [
        {
          "name": "stdout",
          "output_type": "stream",
          "text": [
            "<class 'pandas.core.frame.DataFrame'>\n",
            "RangeIndex: 6807 entries, 0 to 6806\n",
            "Data columns (total 2 columns):\n",
            " #   Column  Non-Null Count  Dtype \n",
            "---  ------  --------------  ----- \n",
            " 0   item    6807 non-null   int64 \n",
            " 1   title   6807 non-null   object\n",
            "dtypes: int64(1), object(1)\n",
            "memory usage: 106.5+ KB\n"
          ]
        },
        {
          "data": {
            "text/html": [
              "<div>\n",
              "<style scoped>\n",
              "    .dataframe tbody tr th:only-of-type {\n",
              "        vertical-align: middle;\n",
              "    }\n",
              "\n",
              "    .dataframe tbody tr th {\n",
              "        vertical-align: top;\n",
              "    }\n",
              "\n",
              "    .dataframe thead th {\n",
              "        text-align: right;\n",
              "    }\n",
              "</style>\n",
              "<table border=\"1\" class=\"dataframe\">\n",
              "  <thead>\n",
              "    <tr style=\"text-align: right;\">\n",
              "      <th></th>\n",
              "      <th>item</th>\n",
              "      <th>title</th>\n",
              "    </tr>\n",
              "  </thead>\n",
              "  <tbody>\n",
              "    <tr>\n",
              "      <th>0</th>\n",
              "      <td>318</td>\n",
              "      <td>Shawshank Redemption, The (1994)</td>\n",
              "    </tr>\n",
              "    <tr>\n",
              "      <th>1</th>\n",
              "      <td>2571</td>\n",
              "      <td>Matrix, The (1999)</td>\n",
              "    </tr>\n",
              "    <tr>\n",
              "      <th>2</th>\n",
              "      <td>2959</td>\n",
              "      <td>Fight Club (1999)</td>\n",
              "    </tr>\n",
              "    <tr>\n",
              "      <th>3</th>\n",
              "      <td>296</td>\n",
              "      <td>Pulp Fiction (1994)</td>\n",
              "    </tr>\n",
              "    <tr>\n",
              "      <th>4</th>\n",
              "      <td>356</td>\n",
              "      <td>Forrest Gump (1994)</td>\n",
              "    </tr>\n",
              "  </tbody>\n",
              "</table>\n",
              "</div>"
            ],
            "text/plain": [
              "   item                             title\n",
              "0   318  Shawshank Redemption, The (1994)\n",
              "1  2571                Matrix, The (1999)\n",
              "2  2959                 Fight Club (1999)\n",
              "3   296               Pulp Fiction (1994)\n",
              "4   356               Forrest Gump (1994)"
            ]
          },
          "execution_count": 14,
          "metadata": {},
          "output_type": "execute_result"
        }
      ],
      "source": [
        "title_data.info()\n",
        "title_data.head(5)"
      ]
    },
    {
      "cell_type": "code",
      "execution_count": 15,
      "id": "38fa9dfe",
      "metadata": {},
      "outputs": [
        {
          "name": "stdout",
          "output_type": "stream",
          "text": [
            "Number of titles with year data: 6806\n",
            "Number of titles without year data: 6616\n"
          ]
        }
      ],
      "source": [
        "print('Number of titles with year data:',title_data['title'].nunique())\n",
        "print('Number of titles without year data:',title_data['title'].apply(lambda x:x[:-6]).nunique())"
      ]
    },
    {
      "cell_type": "markdown",
      "id": "ca0f3a93",
      "metadata": {
        "id": "ca0f3a93"
      },
      "source": [
        "다음은 *genres.tsv* 데이터입니다. \n",
        "각 column은 다음과 같은 정보를 담고 있습니다:\n",
        "- *item* : 영화 id.\n",
        "- *genre* : 영화의 장르.\n",
        "\n",
        "하나의 영화는 여러 개의 장르를 가질 수 있습니다.\n",
        "다음 코드를 실행하여 각 column의 data type과 같은 정보를 파악하고, 샘플 데이터를 출력해봅니다."
      ]
    },
    {
      "cell_type": "code",
      "execution_count": 16,
      "id": "6280af9c",
      "metadata": {
        "id": "6280af9c"
      },
      "outputs": [
        {
          "name": "stdout",
          "output_type": "stream",
          "text": [
            "<class 'pandas.core.frame.DataFrame'>\n",
            "RangeIndex: 15933 entries, 0 to 15932\n",
            "Data columns (total 2 columns):\n",
            " #   Column  Non-Null Count  Dtype \n",
            "---  ------  --------------  ----- \n",
            " 0   item    15933 non-null  int64 \n",
            " 1   genre   15933 non-null  object\n",
            "dtypes: int64(1), object(1)\n",
            "memory usage: 249.1+ KB\n"
          ]
        },
        {
          "data": {
            "text/html": [
              "<div>\n",
              "<style scoped>\n",
              "    .dataframe tbody tr th:only-of-type {\n",
              "        vertical-align: middle;\n",
              "    }\n",
              "\n",
              "    .dataframe tbody tr th {\n",
              "        vertical-align: top;\n",
              "    }\n",
              "\n",
              "    .dataframe thead th {\n",
              "        text-align: right;\n",
              "    }\n",
              "</style>\n",
              "<table border=\"1\" class=\"dataframe\">\n",
              "  <thead>\n",
              "    <tr style=\"text-align: right;\">\n",
              "      <th></th>\n",
              "      <th>item</th>\n",
              "      <th>genre</th>\n",
              "    </tr>\n",
              "  </thead>\n",
              "  <tbody>\n",
              "    <tr>\n",
              "      <th>0</th>\n",
              "      <td>318</td>\n",
              "      <td>Crime</td>\n",
              "    </tr>\n",
              "    <tr>\n",
              "      <th>1</th>\n",
              "      <td>318</td>\n",
              "      <td>Drama</td>\n",
              "    </tr>\n",
              "    <tr>\n",
              "      <th>2</th>\n",
              "      <td>2571</td>\n",
              "      <td>Action</td>\n",
              "    </tr>\n",
              "    <tr>\n",
              "      <th>3</th>\n",
              "      <td>2571</td>\n",
              "      <td>Sci-Fi</td>\n",
              "    </tr>\n",
              "    <tr>\n",
              "      <th>4</th>\n",
              "      <td>2571</td>\n",
              "      <td>Thriller</td>\n",
              "    </tr>\n",
              "  </tbody>\n",
              "</table>\n",
              "</div>"
            ],
            "text/plain": [
              "   item     genre\n",
              "0   318     Crime\n",
              "1   318     Drama\n",
              "2  2571    Action\n",
              "3  2571    Sci-Fi\n",
              "4  2571  Thriller"
            ]
          },
          "execution_count": 16,
          "metadata": {},
          "output_type": "execute_result"
        }
      ],
      "source": [
        "genre_data.info()\n",
        "genre_data.head(5)"
      ]
    },
    {
      "cell_type": "markdown",
      "id": "97ba8644",
      "metadata": {
        "id": "97ba8644"
      },
      "source": [
        "마지막으로 *directors.tsv* 데이터입니다. \n",
        "각 column은 다음과 같은 정보를 담고 있습니다:\n",
        "- *item* : 영화 id.\n",
        "- *director* : 영화 감독. (익명화)\n",
        "\n",
        "하나의 영화는 여러 명의 감독을 가질 수 있습니다. 다음 코드를 실행하여 각 column의 data type과 같은 정보를 파악하고, 샘플 데이터를 출력해봅니다."
      ]
    },
    {
      "cell_type": "code",
      "execution_count": 17,
      "id": "4b93f747",
      "metadata": {
        "id": "4b93f747"
      },
      "outputs": [
        {
          "name": "stdout",
          "output_type": "stream",
          "text": [
            "<class 'pandas.core.frame.DataFrame'>\n",
            "RangeIndex: 5905 entries, 0 to 5904\n",
            "Data columns (total 2 columns):\n",
            " #   Column    Non-Null Count  Dtype \n",
            "---  ------    --------------  ----- \n",
            " 0   item      5905 non-null   int64 \n",
            " 1   director  5905 non-null   object\n",
            "dtypes: int64(1), object(1)\n",
            "memory usage: 92.4+ KB\n"
          ]
        },
        {
          "data": {
            "text/html": [
              "<div>\n",
              "<style scoped>\n",
              "    .dataframe tbody tr th:only-of-type {\n",
              "        vertical-align: middle;\n",
              "    }\n",
              "\n",
              "    .dataframe tbody tr th {\n",
              "        vertical-align: top;\n",
              "    }\n",
              "\n",
              "    .dataframe thead th {\n",
              "        text-align: right;\n",
              "    }\n",
              "</style>\n",
              "<table border=\"1\" class=\"dataframe\">\n",
              "  <thead>\n",
              "    <tr style=\"text-align: right;\">\n",
              "      <th></th>\n",
              "      <th>item</th>\n",
              "      <th>director</th>\n",
              "    </tr>\n",
              "  </thead>\n",
              "  <tbody>\n",
              "    <tr>\n",
              "      <th>0</th>\n",
              "      <td>1237</td>\n",
              "      <td>nm0000005</td>\n",
              "    </tr>\n",
              "    <tr>\n",
              "      <th>1</th>\n",
              "      <td>5147</td>\n",
              "      <td>nm0000005</td>\n",
              "    </tr>\n",
              "    <tr>\n",
              "      <th>2</th>\n",
              "      <td>7327</td>\n",
              "      <td>nm0000005</td>\n",
              "    </tr>\n",
              "    <tr>\n",
              "      <th>3</th>\n",
              "      <td>2068</td>\n",
              "      <td>nm0000005</td>\n",
              "    </tr>\n",
              "    <tr>\n",
              "      <th>4</th>\n",
              "      <td>7396</td>\n",
              "      <td>nm0000005</td>\n",
              "    </tr>\n",
              "  </tbody>\n",
              "</table>\n",
              "</div>"
            ],
            "text/plain": [
              "   item   director\n",
              "0  1237  nm0000005\n",
              "1  5147  nm0000005\n",
              "2  7327  nm0000005\n",
              "3  2068  nm0000005\n",
              "4  7396  nm0000005"
            ]
          },
          "execution_count": 17,
          "metadata": {},
          "output_type": "execute_result"
        }
      ],
      "source": [
        "director_data.info()\n",
        "director_data.head(5)"
      ]
    },
    {
      "cell_type": "code",
      "execution_count": 18,
      "id": "c3efcbc3",
      "metadata": {},
      "outputs": [
        {
          "data": {
            "text/plain": [
              "283"
            ]
          },
          "execution_count": 18,
          "metadata": {},
          "output_type": "execute_result"
        }
      ],
      "source": [
        "multi_directors_items = list()\n",
        "for item_id in item_ids :\n",
        "    directors = director_data[director_data['item']==item_id]\n",
        "    if len(directors) >= 2 :\n",
        "        multi_directors_items.append(item_id)\n",
        "len(multi_directors_items)"
      ]
    },
    {
      "cell_type": "markdown",
      "id": "0886c0de",
      "metadata": {
        "id": "0886c0de"
      },
      "source": [
        "## 데이터 시각화 해보기\n",
        "앞에서 주어진 데이터셋을 먼저 간단히 살펴보았습니다. 이제부터는 다수의 파일을 merge하여 시각화하고, 데이터에 대해 좀 더 깊은 이해를 해보겠습니다."
      ]
    },
    {
      "cell_type": "markdown",
      "id": "76a40230",
      "metadata": {
        "id": "76a40230"
      },
      "source": [
        "먼저 효율적인 데이터 시각화를 위해, 데이터셋에서 빈도수가 높은 movie, user 데이터의 id를 미리 저장하겠습니다.\n",
        "train 데이터에서 데이터의 출현 빈도 순으로 *active_user_ids*와 *popular_movie_ids*에 top 10을 각각 저장합니다.\n",
        "\n",
        "대회 데이터셋에서 빈도수가 높을수록 유명한 영화를 나타내는 것은 아니지만, 편의상 *popular_movie_id* 변수명을 사용하는 점을 당부드립니다.\n",
        "\n",
        "다음 코드를 실행해주세요."
      ]
    },
    {
      "cell_type": "code",
      "execution_count": 19,
      "id": "3318b7e8",
      "metadata": {
        "id": "3318b7e8"
      },
      "outputs": [
        {
          "name": "stdout",
          "output_type": "stream",
          "text": [
            "active user ids:  Int64Index([8405, 54465, 24219, 32514, 91349, 131904, 34576, 99754, 31122,\n",
            "            118754],\n",
            "           dtype='int64', name='user')\n",
            "\n",
            "popular movie ids:  Int64Index([2571, 2959, 296, 318, 356, 4993, 7153, 5952, 593, 2858], dtype='int64', name='item')\n"
          ]
        }
      ],
      "source": [
        "active_user_ids = train_df.value_counts('user').index[:10]\n",
        "popular_movie_ids = train_df.value_counts('item').index[:10]\n",
        "\n",
        "print (\"active user ids: \", active_user_ids)\n",
        "print (\"\\npopular movie ids: \", popular_movie_ids)"
      ]
    },
    {
      "cell_type": "markdown",
      "id": "f6536b69",
      "metadata": {
        "id": "f6536b69"
      },
      "source": [
        "*active_user_ids*와 *popular_movie_ids*에 각각 빈도가 높은 영화와 사용자 id들을 저장했습니다. 뒤에서도 계속 사용할 예정이니 참고해 주세요.\n",
        "\n",
        "이제부터는 train 데이터와 side information 데이터를 merge하고, side information 별 user-item 빈도수가 높은 데이터 샘플을 미리 저장합니다. 위에서 저장한 active user id와 popular movie id와 다르게 여기서는 바로 Pandas Dataframe의 형태로 샘플을 저장합니다. 빈도가 가장 높은 10개 side information data가 해당하는 모든 user-item interaction를 저장할 것이므로, 각 side information 데이터 샘플의 크기는 상이합니다.\n",
        "\n",
        "이어지는 코드 cell들을 실행해보고, 출력된 결과를 충분히 관찰해보시기 바랍니다."
      ]
    },
    {
      "cell_type": "code",
      "execution_count": 20,
      "id": "9c6d680e",
      "metadata": {
        "id": "9c6d680e"
      },
      "outputs": [
        {
          "name": "stdout",
          "output_type": "stream",
          "text": [
            "Number of all unique director ids:  1340\n",
            "\n",
            "top 10 director ids: \n",
            " Index(['nm0000229', 'nm0000233', 'nm0634240', 'nm0000709', 'nm0001392',\n",
            "       'nm0000217', 'nm0001054', 'nm0000116', 'nm0000399', 'nm0000631'],\n",
            "      dtype='object', name='director')\n",
            "\n",
            "sample of top 10 user-director data: \n",
            "            user  item        time   director\n",
            "1172345  125173  3578  1124710707  nm0000631\n",
            "2198677   25680  1089  1331099111  nm0000233\n",
            "195191   106776  2011  1417825464  nm0000709\n",
            "548777    12649  1240  1146147495  nm0000116\n",
            "1150140    9528  1291  1129307351  nm0000229\n",
            "\n",
            "shape of the data:  (672019, 4)\n"
          ]
        }
      ],
      "source": [
        "director_df = pd.merge(train_df, director_data, on=['item'])\n",
        "director_id = director_df.value_counts('director').index[:10]\n",
        "\n",
        "side_df = []\n",
        "for director in director_id:\n",
        "    side_df.append(director_df.loc[director_df['director'] == director])\n",
        "\n",
        "director_top = pd.concat(side_df)\n",
        "\n",
        "print (\"Number of all unique director ids: \", director_df['director'].nunique())\n",
        "print (\"\\ntop 10 director ids: \\n\", director_id)\n",
        "print (\"\\nsample of top 10 user-director data: \\n\", director_top.sample(5))\n",
        "print (\"\\nshape of the data: \", director_top.shape)"
      ]
    },
    {
      "cell_type": "code",
      "execution_count": 21,
      "id": "8eb01464",
      "metadata": {
        "id": "8eb01464"
      },
      "outputs": [
        {
          "name": "stdout",
          "output_type": "stream",
          "text": [
            "Number of all unique writer ids:  2989\n",
            "\n",
            "top 10 writer ids: \n",
            " Index(['nm0000184', 'nm0000233', 'nm0634240', 'nm0001392', 'nm0909638',\n",
            "       'nm0004056', 'nm0744429', 'nm0101991', 'nm0254645', 'nm0000175'],\n",
            "      dtype='object', name='writer')\n",
            "\n",
            "sample of top 10 user-writer data: \n",
            "           user  item        time     writer\n",
            "2323816  88221  1198  1187792160  nm0000184\n",
            "1763099  98113  6377  1139734850  nm0004056\n",
            "2308753  39003  1198  1270501960  nm0000184\n",
            "1379242   1750   318  1255044470  nm0000175\n",
            "1713290  73386  6539  1266682150  nm0744429\n",
            "\n",
            "shape of the data:  (651286, 4)\n"
          ]
        }
      ],
      "source": [
        "writer_df = pd.merge(train_df, writer_data, on=['item'])\n",
        "writer_id = writer_df.value_counts('writer').index[:10]\n",
        "\n",
        "side_df = []\n",
        "for writer in writer_id:\n",
        "    side_df.append(writer_df.loc[writer_df['writer'] == writer])\n",
        "\n",
        "writer_top = pd.concat(side_df)\n",
        "\n",
        "print (\"Number of all unique writer ids: \", writer_df['writer'].nunique())\n",
        "print (\"\\ntop 10 writer ids: \\n\", writer_id)\n",
        "print (\"\\nsample of top 10 user-writer data: \\n\", writer_top.sample(5))\n",
        "print (\"\\nshape of the data: \", writer_top.shape)"
      ]
    },
    {
      "cell_type": "code",
      "execution_count": 22,
      "id": "2491c124",
      "metadata": {
        "id": "2491c124"
      },
      "outputs": [
        {
          "name": "stdout",
          "output_type": "stream",
          "text": [
            "Number of all unique movie titles:  6806\n",
            "\n",
            "top 10 movie titles: \n",
            " Index(['Matrix, The (1999)', 'Fight Club (1999)', 'Pulp Fiction (1994)',\n",
            "       'Shawshank Redemption, The (1994)', 'Forrest Gump (1994)',\n",
            "       'Lord of the Rings: The Fellowship of the Ring, The (2001)',\n",
            "       'Lord of the Rings: The Return of the King, The (2003)',\n",
            "       'Lord of the Rings: The Two Towers, The (2002)',\n",
            "       'Silence of the Lambs, The (1991)', 'American Beauty (1999)'],\n",
            "      dtype='object', name='title')\n",
            "\n",
            "sample of top 10 user-title data: \n",
            "           user  item        time  \\\n",
            "1073795  29881  5952  1366832120   \n",
            "855997   46482   356  1170540935   \n",
            "877306   85543   593  1321881920   \n",
            "565628    1016   318  1183238440   \n",
            "566126    4748   318  1143214600   \n",
            "\n",
            "                                                 title  \n",
            "1073795  Lord of the Rings: The Two Towers, The (2002)  \n",
            "855997                             Forrest Gump (1994)  \n",
            "877306                Silence of the Lambs, The (1991)  \n",
            "565628                Shawshank Redemption, The (1994)  \n",
            "566126                Shawshank Redemption, The (1994)  \n",
            "\n",
            "shape of the data:  (173185, 4)\n"
          ]
        }
      ],
      "source": [
        "title_df = pd.merge(train_df, title_data, on=['item'])\n",
        "title_id = title_df.value_counts('title').index[:10]\n",
        "\n",
        "\n",
        "side_df = []\n",
        "for title in title_id:\n",
        "    side_df.append(title_df.loc[title_df['title'] == title])\n",
        "\n",
        "title_top = pd.concat(side_df)\n",
        "\n",
        "print (\"Number of all unique movie titles: \", title_df['title'].nunique())\n",
        "print (\"\\ntop 10 movie titles: \\n\", title_id)\n",
        "print (\"\\nsample of top 10 user-title data: \\n\", title_top.sample(5))\n",
        "print (\"\\nshape of the data: \", title_top.shape)"
      ]
    },
    {
      "cell_type": "code",
      "execution_count": 23,
      "id": "4b19e5d4",
      "metadata": {
        "id": "4b19e5d4"
      },
      "outputs": [
        {
          "name": "stdout",
          "output_type": "stream",
          "text": [
            "All unique years: \n",
            " [1922 1923 1924 1925 1926 1927 1928 1929 1930 1931 1932 1933 1934 1935\n",
            " 1936 1937 1938 1939 1940 1941 1942 1943 1944 1945 1946 1947 1948 1949\n",
            " 1950 1951 1952 1953 1954 1955 1956 1957 1958 1959 1960 1961 1962 1963\n",
            " 1964 1965 1966 1967 1968 1969 1970 1971 1972 1973 1974 1975 1976 1977\n",
            " 1978 1979 1980 1981 1982 1983 1984 1985 1986 1987 1988 1989 1990 1991\n",
            " 1992 1993 1994 1995 1996 1997 1998 1999 2000 2001 2002 2003 2004 2005\n",
            " 2006 2007 2008 2009 2010 2011 2012 2013 2014]\n",
            "\n",
            "Number of all unique years:  93\n",
            "\n",
            "top 10 years: \n",
            " Int64Index([2004, 1999, 2001, 2002, 2006, 2003, 2000, 2005, 1995, 2007], dtype='int64', name='year')\n",
            "\n",
            "sample of top 10 user-year data: \n",
            "            user   item        time  year\n",
            "2748415   92757   4370  1276096911  2001\n",
            "511736   109904   3793  1225245288  2000\n",
            "3407876   80401  55118  1354427994  2007\n",
            "3359653   86198  44195  1177349697  2006\n",
            "3973885   37984   4873  1221519864  2001\n",
            "\n",
            "shape of the data:  (2173226, 4)\n"
          ]
        }
      ],
      "source": [
        "year_df = pd.merge(train_df, year_data, on=['item'])\n",
        "year_id = year_df.value_counts('year').index[:10]\n",
        "\n",
        "side_df = []\n",
        "for year in year_id:\n",
        "    side_df.append(year_df.loc[year_df['year'] == year])\n",
        "\n",
        "year_top = pd.concat(side_df)\n",
        "\n",
        "print (\"All unique years: \\n\", np.sort(year_df['year'].unique())) \n",
        "print (\"\\nNumber of all unique years: \", year_df['year'].nunique())\n",
        "print (\"\\ntop 10 years: \\n\", year_id)\n",
        "print (\"\\nsample of top 10 user-year data: \\n\", year_top.sample(5))\n",
        "print (\"\\nshape of the data: \", year_top.shape)"
      ]
    },
    {
      "cell_type": "markdown",
      "id": "4d516fdd",
      "metadata": {
        "id": "4d516fdd"
      },
      "source": [
        "여기까지 director, writer, title, year 데이터를 확인해 보았는데요. 이어서 genre 데이터도 관찰해보겠습니다. 데이터셋에서 genre의 수가 총 18개밖에 없으므로 빈도수가 높은 genre를 따로 저장할 필요 없이, train 데이터와의 merge를 바로 진행하겠습니다.\n",
        "\n",
        "다음 코드를 실행하고 genre 데이터의 형태도 관찰해보세요."
      ]
    },
    {
      "cell_type": "code",
      "execution_count": 24,
      "id": "d7260a11",
      "metadata": {
        "id": "d7260a11"
      },
      "outputs": [
        {
          "name": "stdout",
          "output_type": "stream",
          "text": [
            "All unique genres: \n",
            " ['Action' 'Adventure' 'Animation' 'Children' 'Comedy' 'Crime'\n",
            " 'Documentary' 'Drama' 'Fantasy' 'Film-Noir' 'Horror' 'Musical' 'Mystery'\n",
            " 'Romance' 'Sci-Fi' 'Thriller' 'War' 'Western']\n",
            "\n",
            "Number of all unique genres:  18\n",
            "\n",
            "sample of user-genre data: \n",
            "            user   item        time     genre\n",
            "8250147   91346   1711  1283362753     Crime\n",
            "8446083   44637  79132  1405307220  Thriller\n",
            "8626904   41447   8874  1138560908    Comedy\n",
            "10795769  11189  48696  1232837905     Drama\n",
            "8256148   15486   5388  1200799117     Drama\n",
            "\n",
            "shape of the data:  (14126324, 4)\n"
          ]
        }
      ],
      "source": [
        "genre_df = pd.merge(train_df, genre_data, on=['item'])\n",
        "\n",
        "genre_top = genre_df\n",
        "\n",
        "print (\"All unique genres: \\n\", np.sort(genre_df['genre'].unique())) \n",
        "print (\"\\nNumber of all unique genres: \", genre_df['genre'].nunique())\n",
        "print (\"\\nsample of user-genre data: \\n\", genre_top.sample(5))\n",
        "print (\"\\nshape of the data: \", genre_top.shape)"
      ]
    },
    {
      "cell_type": "markdown",
      "id": "ef9ab59e",
      "metadata": {
        "id": "ef9ab59e"
      },
      "source": [
        "여기까지 오셨으면 side information 데이터의 형태를 충분히 파악하셨을 것으로 생각됩니다! 이제\n",
        "matplotlib library를 사용하여 샘플한 데이터를 그래프로 시각화해봅니다. "
      ]
    },
    {
      "cell_type": "code",
      "execution_count": 25,
      "id": "b32deb81",
      "metadata": {
        "id": "b32deb81"
      },
      "outputs": [],
      "source": [
        "import matplotlib.pyplot as plt"
      ]
    },
    {
      "cell_type": "code",
      "execution_count": 26,
      "id": "c55623fa",
      "metadata": {
        "id": "c55623fa"
      },
      "outputs": [
        {
          "data": {
            "image/png": "[encoded data removed]",
            "text/plain": [
              "<Figure size 576x504 with 1 Axes>"
            ]
          },
          "metadata": {
            "needs_background": "light"
          },
          "output_type": "display_data"
        }
      ],
      "source": [
        "genre_top['genre'].value_counts().plot(kind = 'bar', figsize = (8,7))\n",
        "plt.xlabel('genre')\n",
        "plt.ylabel('# of users')\n",
        "plt.title('Visualization of genre distribution over all training data')\n",
        "plt.show()"
      ]
    },
    {
      "cell_type": "markdown",
      "id": "381aee8a",
      "metadata": {
        "id": "381aee8a"
      },
      "source": [
        "데이터셋에서 가장 많이 출현하는 장르가 *Drama*, 가장 적게 출현하는 장르가 *Film-Noir*임을 확인할 수 있었습니다.\n",
        "\n",
        "그러면 전체 training 데이터에서의 genre 분포 뿐만 아니라, genre 데이터 단독의 분포를 출력하면 어떤지 비교해 봅니다. 코드를 실행해주세요."
      ]
    },
    {
      "cell_type": "code",
      "execution_count": 27,
      "id": "82547687",
      "metadata": {
        "id": "82547687"
      },
      "outputs": [
        {
          "data": {
            "image/png": "[encoded data removed]",
            "text/plain": [
              "<Figure size 432x288 with 2 Axes>"
            ]
          },
          "metadata": {
            "needs_background": "light"
          },
          "output_type": "display_data"
        }
      ],
      "source": [
        "plt.subplot(2,1,1)\n",
        "genre_data['genre'].value_counts().plot(kind = 'bar')\n",
        "plt.xlabel('genre')\n",
        "plt.ylabel('# of users')\n",
        "plt.title('Visualization of genre distribution over all movies')\n",
        "\n",
        "plt.subplot(2,1,2)\n",
        "genre_top['genre'].value_counts().plot(kind = 'bar')\n",
        "plt.xlabel('genre')\n",
        "plt.ylabel('# of users')\n",
        "plt.title('Visualization of genre distribution over all training data')\n",
        "\n",
        "plt.subplots_adjust(hspace=2.0, top=1.0)"
      ]
    },
    {
      "cell_type": "markdown",
      "id": "2e2103de",
      "metadata": {
        "id": "2e2103de"
      },
      "source": [
        "두 개의 그래프를 확인하면 거의 비슷해보이지만, 두 분포 사이에 작은 차이가 있음을 확인할 수 있습니다. 가령, *Romance* 장르의 영화가 전체 훈련 데이터에서는 7위를 차지하지만, 모든 6807개의 영화 중에서는 4위를 차지합니다. 이는 *Romance* 장르에 해당하는 영화의 갯수에 비해 실제 사용자들이 시청할 확률이 더 높았다는 것을 뜻합니다.\n",
        "\n",
        "다음은 사용자 한명이 시청한 영화 리스트를 확인하고, 해당 사용자가 가장 선호하는 장르를 순위별로 차트로 알아보겠습니다. 다음 코드에서는 데이터가 가장 많은 사용자의 id인 `active_user_ids[0]`를 사용하겠습니다.\n",
        "그럼 코드를 실행해보세요!"
      ]
    },
    {
      "cell_type": "code",
      "execution_count": 28,
      "id": "7322b72f",
      "metadata": {
        "id": "7322b72f"
      },
      "outputs": [
        {
          "data": {
            "text/plain": [
              "<AxesSubplot:>"
            ]
          },
          "execution_count": 28,
          "metadata": {},
          "output_type": "execute_result"
        },
        {
          "data": {
            "image/png": "[encoded data removed]",
            "text/plain": [
              "<Figure size 576x504 with 1 Axes>"
            ]
          },
          "metadata": {
            "needs_background": "light"
          },
          "output_type": "display_data"
        }
      ],
      "source": [
        "user_id = active_user_ids[0] # specific user id\n",
        "genre_user = genre_top[genre_top['user'] == user_id]\n",
        "\n",
        "genre_user['genre'].value_counts().plot(kind = 'bar', figsize = (8,7))"
      ]
    },
    {
      "cell_type": "code",
      "execution_count": 33,
      "id": "13490d4d",
      "metadata": {},
      "outputs": [
        {
          "data": {
            "text/plain": [
              "<AxesSubplot:>"
            ]
          },
          "execution_count": 33,
          "metadata": {},
          "output_type": "execute_result"
        },
        {
          "data": {
            "image/png": "[encoded data removed]",
            "text/plain": [
              "<Figure size 576x504 with 1 Axes>"
            ]
          },
          "metadata": {
            "needs_background": "light"
          },
          "output_type": "display_data"
        }
      ],
      "source": [
        "user_id = active_user_ids[1] # specific user id\n",
        "genre_user = genre_top[genre_top['user'] == user_id]\n",
        "\n",
        "genre_user['genre'].value_counts().plot(kind = 'bar', figsize = (8,7))"
      ]
    },
    {
      "cell_type": "markdown",
      "id": "d268df37",
      "metadata": {
        "id": "d268df37"
      },
      "source": [
        "`active_user_ids[0]`에 해당하는 사용자의 시청영화 장르 분포는 전체 데이터의 장르 분포와 크게 차이가 나지 않습니다. 그렇다면 `active_user_ids[1]`에 해당하는 사용자는 어떨까요? 다양한 사용자들의 장르 분포도 한번 비교해 보시기 바랍니다.\n",
        "\n",
        "\n",
        "다음은 사용자가 주로 언제 영화를 시청했는지 알아보려고 합니다.\n",
        "그 전에 먼저 간단히 알고 넘어가면 좋은 내용이 있는데요. train 데이터를 보시면 timestamp column은 유닉스 시간(Unix time)을 초 단위로 표시한 것입니다. 통계를 위해 이것을 우리가 알아볼 수 있는 단위로 변환하는 방법을 알아보겠습니다. 다음 코드를 실행해보세요."
      ]
    },
    {
      "cell_type": "code",
      "execution_count": 34,
      "id": "0c3d80f1",
      "metadata": {
        "id": "0c3d80f1"
      },
      "outputs": [
        {
          "name": "stdout",
          "output_type": "stream",
          "text": [
            "initial unix-based timestamp: 1230782529\n",
            "converted time: 2009-01-01 04:02:09\n"
          ]
        }
      ],
      "source": [
        "import time\n",
        "unix_time = 1230782529 # some random timestamp from dataset\n",
        "converted_time = time.strftime('%Y-%m-%d %H:%M:%S', time.localtime(unix_time))\n",
        "\n",
        "print (\"initial unix-based timestamp: %s\\nconverted time: %s\"%(unix_time, converted_time))"
      ]
    },
    {
      "cell_type": "markdown",
      "id": "81646dc3",
      "metadata": {
        "id": "81646dc3"
      },
      "source": [
        "파이썬의 time 라이브러리를 사용하여 연-월-일 시간-분-초 단위까지 잘 변환이 되는 것을 확인했습니다. \n",
        "하지만 우리 데이터셋의 영화 연도 분포와 task를 고려했을때 시간-분-초 단위는 크게 중요하지 않을 것 같습니다. 일 단위도 빼고, 연-월 단위만 가지고 사용자의 시청 연-월 그래프를 확인해보겠습니다.\n",
        "\n",
        "즉, 위와 같은 방법으로 timestamp를 변환하여 `active_user_ids[0]`에 해당하는 사용자가 어느 시기에 가장 많은 interaction 활동을 했는지 알아봅니다. 다음 코드를 실행하여 그래프를 확인해봅니다."
      ]
    },
    {
      "cell_type": "code",
      "execution_count": 30,
      "id": "1da11a31",
      "metadata": {
        "id": "1da11a31"
      },
      "outputs": [
        {
          "name": "stderr",
          "output_type": "stream",
          "text": [
            "/tmp/ipykernel_23669/3998196915.py:6: SettingWithCopyWarning: \n",
            "A value is trying to be set on a copy of a slice from a DataFrame.\n",
            "Try using .loc[row_indexer,col_indexer] = value instead\n",
            "\n",
            "See the caveats in the documentation: https://pandas.pydata.org/pandas-docs/stable/user_guide/indexing.html#returning-a-view-versus-a-copy\n",
            "  converted_df['time'] = old_df['time'].replace([old_time], new_time) # replace the time column\n"
          ]
        },
        {
          "data": {
            "text/plain": [
              "Text(0.5, 1.0, 'Statistics of user activity')"
            ]
          },
          "execution_count": 30,
          "metadata": {},
          "output_type": "execute_result"
        },
        {
          "data": {
            "image/png": "[encoded data removed]",
            "text/plain": [
              "<Figure size 576x504 with 1 Axes>"
            ]
          },
          "metadata": {
            "needs_background": "light"
          },
          "output_type": "display_data"
        }
      ],
      "source": [
        "old_df = train_df[train_df['user'] == active_user_ids[0]] # Specific user id\n",
        "converted_df = old_df\n",
        "\n",
        "for old_time in old_df['time']:\n",
        "    new_time = time.strftime('%Y-%m', time.localtime(old_time))\n",
        "    converted_df['time'] = old_df['time'].replace([old_time], new_time) # replace the time column\n",
        "\n",
        "converted_df['time'].value_counts().plot(kind = 'bar', figsize = (8,7))\n",
        "plt.xlabel('year-month')\n",
        "plt.ylabel('# of movies')\n",
        "plt.title('Statistics of user activity')"
      ]
    },
    {
      "cell_type": "markdown",
      "id": "0cd8606f",
      "metadata": {
        "id": "0cd8606f"
      },
      "source": [
        "해당 사용자는 대략 2007년 전후로 영화 시청을 가장 많이 했고, 시간이 지나면서 시청 기록이 점점 줄어드는 확인할 수 있습니다.\n",
        "\n",
        "이어서 사용자가 처음으로 또는 마지막으로 영화 시청을 한 시기도 직접 출력해볼 수 있겠습니다. 또, 다른 사용자들의 분포는 얼마나 다를까요?\n",
        "혹은, 어떤 영화가 어떤 연도에 가장 많이 소비되었을까요?\n",
        "\n",
        "눈치 채셨을지 모르겠지만, 앞서 저장했던 *popular_movie_id* 변수는 시각화에 사용되지 않았는데요. 선택 과제로 활용해보시기 바랍니다!"
      ]
    },
    {
      "cell_type": "markdown",
      "id": "bfd772c1",
      "metadata": {
        "id": "bfd772c1"
      },
      "source": [
        "## 마치며\n",
        "\n",
        "여기까지 오시느라 모두 수고 많으셨습니다. 본 미션에서는 여러 데이터를 관찰하고, 또 분포를 출력해보면서 데이터에 대해 이해하는 시간을 가져보았는데요.\n",
        "미션에서 제공된 정보 외에도 다른 분석들을 추가로 해보시면 대회를 준비하는데 더 도움이 될 것입니다.\n",
        "많은 인사이트를 얻어가셔서 대회에 충분히 활용하시길 바라겠습니다!"
      ]
    }
  ],
  "metadata": {
    "colab": {
      "collapsed_sections": [],
      "name": "Movie_Recommendation-Mission _1-EDA.ipynb",
      "provenance": []
    },
    "kernelspec": {
      "display_name": "Python 3 (ipykernel)",
      "language": "python",
      "name": "python3"
    },
    "language_info": {
      "codemirror_mode": {
        "name": "ipython",
        "version": 3
      },
      "file_extension": ".py",
      "mimetype": "text/x-python",
      "name": "python",
      "nbconvert_exporter": "python",
      "pygments_lexer": "ipython3",
      "version": "3.8.12"
    }
  },
  "nbformat": 4,
  "nbformat_minor": 5
}
