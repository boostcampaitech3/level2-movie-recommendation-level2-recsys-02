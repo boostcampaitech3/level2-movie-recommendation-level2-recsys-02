{
 "cells": [
  {
   "cell_type": "code",
   "execution_count": 1,
   "metadata": {},
   "outputs": [],
   "source": [
    "import pandas as pd\n",
    "import numpy as np\n",
    "import os\n",
    "\n",
    "from tqdm import tqdm"
   ]
  },
  {
   "cell_type": "code",
   "execution_count": 2,
   "metadata": {},
   "outputs": [],
   "source": [
    "data_dir = '/opt/ml/movie-recommendation/data/'\n",
    "train_df = pd.read_csv(os.path.join(data_dir+'train', 'train_ratings.csv')) # 전체 학습 데이터"
   ]
  },
  {
   "cell_type": "markdown",
   "metadata": {},
   "source": [
    "## Top 10%"
   ]
  },
  {
   "cell_type": "code",
   "execution_count": 3,
   "metadata": {},
   "outputs": [],
   "source": [
    "# most popular 10 items\n",
    "num_items = train_df['item'].nunique()\n",
    "num_users = train_df['user'].nunique()\n",
    "most_popular_items = train_df['item'].value_counts()[:int(num_items*0.1)].index.values\n",
    "\n",
    "most_popular_items = set(most_popular_items)\n",
    "observed_items_per_user = list(train_df.groupby('user')['item'])\n"
   ]
  },
  {
   "cell_type": "code",
   "execution_count": 4,
   "metadata": {},
   "outputs": [
    {
     "name": "stderr",
     "output_type": "stream",
     "text": [
      "100%|██████████| 31360/31360 [00:30<00:00, 1042.50it/s]\n"
     ]
    }
   ],
   "source": [
    "unseen_items_dfs = list()\n",
    "\n",
    "for user, observed_items in tqdm(observed_items_per_user):\n",
    "    observed_items = set(observed_items)\n",
    "    unseen_item = list(most_popular_items - observed_items)\n",
    "\n",
    "    user_id = [user]*len(unseen_item)\n",
    "    unseen_items_dfs.append(pd.DataFrame(zip(user_id,unseen_item), columns=['user','item']))\n",
    "\n",
    "test_df = pd.concat(unseen_items_dfs, axis = 0, sort=False)"
   ]
  },
  {
   "cell_type": "code",
   "execution_count": 5,
   "metadata": {},
   "outputs": [],
   "source": [
    "genre_data = data_dir+'train/' + \"genres.tsv\"\n",
    "\n",
    "genre_df = pd.read_csv(genre_data, sep='\\t')\n",
    "genre_df = genre_df.drop_duplicates(subset=['item']) #item별 하나의 장르만 남도록 drop\n",
    "\n",
    "genre_dict = {genre:i for i, genre in enumerate(set(genre_df['genre']))}\n",
    "genre_df['genre']  = genre_df['genre'].map(lambda x : genre_dict[x]) #gen"
   ]
  },
  {
   "cell_type": "code",
   "execution_count": 6,
   "metadata": {},
   "outputs": [],
   "source": [
    "test_df = pd.merge(test_df, genre_df, left_on='item', right_on='item', how='inner')\n",
    "\n",
    "# 5. user, item을 zero-based index로 mapping\n",
    "users = list(set(train_df.loc[:,'user']))\n",
    "users.sort()\n",
    "items =  list(set((train_df.loc[:, 'item'])))\n",
    "items.sort()\n",
    "\n",
    "if len(users)-1 != max(users):\n",
    "    users_dict = {users[i]: i for i in range(len(users))}\n",
    "    test_df['user']  = test_df['user'].map(lambda x : users_dict[x])\n",
    "    \n",
    "if len(items)-1 != max(items):\n",
    "    items_dict = {items[i]: i for i in range(len(items))}\n",
    "    test_df['item']  = test_df['item'].map(lambda x : items_dict[x])\n",
    "\n",
    "test_df = test_df.sort_values(by=['user'])\n",
    "test_df.reset_index(drop=True, inplace=True)"
   ]
  },
  {
   "cell_type": "code",
   "execution_count": 7,
   "metadata": {},
   "outputs": [],
   "source": [
    "test_df.to_csv(data_dir+'eval/top10_unseen_items.csv', index=False)"
   ]
  },
  {
   "cell_type": "code",
   "execution_count": 8,
   "metadata": {},
   "outputs": [],
   "source": [
    "submission = pd.read_csv('/opt/ml/movie-recommendation/DeepFM/output/output.csv')\n",
    "\n",
    "inv_user_map = {v: k for k, v in users_dict.items()}\n",
    "submission['user']  = submission['user'].map(lambda x : inv_user_map[x])\n",
    "\n",
    "inv_item_map = {v: k for k, v in items_dict.items()}\n",
    "submission['item'] = submission['item'].map(lambda x : inv_item_map[x])"
   ]
  },
  {
   "cell_type": "code",
   "execution_count": 10,
   "metadata": {},
   "outputs": [],
   "source": [
    "submission.to_csv('/opt/ml/movie-recommendation/DeepFM/output/output.csv', index=False)"
   ]
  }
 ],
 "metadata": {
  "interpreter": {
   "hash": "3ea19d11efa7602c1f12500925a974ed4f31fcf847bd6f694bd5180da2602ded"
  },
  "kernelspec": {
   "display_name": "Python 3.8.12 ('py38')",
   "language": "python",
   "name": "python3"
  },
  "language_info": {
   "codemirror_mode": {
    "name": "ipython",
    "version": 3
   },
   "file_extension": ".py",
   "mimetype": "text/x-python",
   "name": "python",
   "nbconvert_exporter": "python",
   "pygments_lexer": "ipython3",
   "version": "3.8.12"
  },
  "orig_nbformat": 4
 },
 "nbformat": 4,
 "nbformat_minor": 2
}
