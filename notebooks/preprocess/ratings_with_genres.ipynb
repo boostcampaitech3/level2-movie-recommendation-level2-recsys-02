{
 "cells": [
  {
   "cell_type": "code",
   "execution_count": 1,
   "metadata": {},
   "outputs": [],
   "source": [
    "import os\n",
    "import numpy as np\n",
    "import pandas as pd\n",
    "from tqdm import tqdm\n"
   ]
  },
  {
   "cell_type": "code",
   "execution_count": 2,
   "metadata": {},
   "outputs": [],
   "source": [
    "data_dir = '/opt/ml/movie-recommendation/data/train/'\n",
    "\n",
    "# 1. Rating df 생성\n",
    "rating_data = data_dir + \"/train_ratings.csv\"\n",
    "raw_rating_df = pd.read_csv(rating_data)\n",
    "\n",
    "raw_rating_df['rating'] = 1.0 # implicit feedback\n",
    "raw_rating_df.drop(['time'],axis=1,inplace=True)\n",
    "\n",
    "users = set(raw_rating_df.loc[:, 'user'])\n",
    "items = set(raw_rating_df.loc[:, 'item'])"
   ]
  },
  {
   "cell_type": "code",
   "execution_count": null,
   "metadata": {},
   "outputs": [],
   "source": [
    "#2. Genre df 생성\n",
    "genre_data = data_dir + \"genres.tsv\"\n",
    "\n",
    "raw_genre_df = pd.read_csv(genre_data, sep='\\t')\n",
    "raw_genre_df = raw_genre_df.drop_duplicates(subset=['item']) #item별 하나의 장르만 남도록 drop\n",
    "\n",
    "genre_dict = {genre:i for i, genre in enumerate(set(raw_genre_df['genre']))}\n",
    "raw_genre_df['genre']  = raw_genre_df['genre'].map(lambda x : genre_dict[x]) #genre id로 변경\n"
   ]
  },
  {
   "cell_type": "code",
   "execution_count": null,
   "metadata": {},
   "outputs": [],
   "source": [
    "# 3. Negative instance 생성\n",
    "num_negative = 50\n",
    "user_group_dfs = list(raw_rating_df.groupby('user')['item'])\n",
    "first_row = True\n",
    "user_neg_dfs = pd.DataFrame()\n",
    "\n",
    "for u, u_items in user_group_dfs:\n",
    "    u_items = set(u_items)\n",
    "    i_user_neg_item = np.random.choice(list(items - u_items), num_negative, replace=False)\n",
    "    \n",
    "    i_user_neg_df = pd.DataFrame({'user': [u]*num_negative, 'item': i_user_neg_item, 'rating': [0]*num_negative})\n",
    "    if first_row == True:\n",
    "        user_neg_dfs = i_user_neg_df\n",
    "        first_row = False\n",
    "    else:\n",
    "        user_neg_dfs = pd.concat([user_neg_dfs, i_user_neg_df], axis = 0, sort=False)\n",
    "\n",
    "raw_rating_df = pd.concat([raw_rating_df, user_neg_dfs], axis = 0, sort=False)\n"
   ]
  },
  {
   "cell_type": "code",
   "execution_count": null,
   "metadata": {},
   "outputs": [],
   "source": [
    "# 4. Join dfs\n",
    "joined_rating_df = pd.merge(raw_rating_df, raw_genre_df, left_on='item', right_on='item', how='inner')\n"
   ]
  },
  {
   "cell_type": "code",
   "execution_count": null,
   "metadata": {},
   "outputs": [],
   "source": [
    "# 5. user, item을 zero-based index로 mapping\n",
    "users = list(set(joined_rating_df.loc[:,'user']))\n",
    "users.sort()\n",
    "items =  list(set((joined_rating_df.loc[:, 'item'])))\n",
    "items.sort()\n",
    "genres =  list(set((joined_rating_df.loc[:, 'genre'])))\n",
    "genres.sort()\n",
    "\n",
    "if len(users)-1 != max(users):\n",
    "    users_dict = {users[i]: i for i in range(len(users))}\n",
    "    joined_rating_df['user']  = joined_rating_df['user'].map(lambda x : users_dict[x])\n",
    "    users = list(set(joined_rating_df.loc[:,'user']))\n",
    "    \n",
    "if len(items)-1 != max(items):\n",
    "    items_dict = {items[i]: i for i in range(len(items))}\n",
    "    joined_rating_df['item']  = joined_rating_df['item'].map(lambda x : items_dict[x])\n",
    "    items =  list(set((joined_rating_df.loc[:, 'item'])))\n",
    "\n",
    "joined_rating_df = joined_rating_df.sort_values(by=['user'])\n",
    "joined_rating_df.reset_index(drop=True, inplace=True)\n"
   ]
  },
  {
   "cell_type": "code",
   "execution_count": null,
   "metadata": {},
   "outputs": [],
   "source": [
    "data = joined_rating_df\n",
    "\n",
    "data_dir = data_dir + 'context-aware/'\n",
    "if not os.path.exists(data_dir) :\n",
    "    os.mkdir(data_dir)\n",
    "data.to_csv(os.path.join(data_dir, 'ratings_with_genres.csv'), mode='w', index=False)"
   ]
  }
 ],
 "metadata": {
  "interpreter": {
   "hash": "3ea19d11efa7602c1f12500925a974ed4f31fcf847bd6f694bd5180da2602ded"
  },
  "kernelspec": {
   "display_name": "Python 3.8.12 ('py38')",
   "language": "python",
   "name": "python3"
  },
  "language_info": {
   "codemirror_mode": {
    "name": "ipython",
    "version": 3
   },
   "file_extension": ".py",
   "mimetype": "text/x-python",
   "name": "python",
   "nbconvert_exporter": "python",
   "pygments_lexer": "ipython3",
   "version": "3.8.12"
  },
  "orig_nbformat": 4
 },
 "nbformat": 4,
 "nbformat_minor": 2
}
