{
 "cells": [
  {
   "cell_type": "code",
   "execution_count": 10,
   "metadata": {},
   "outputs": [],
   "source": [
    "import pandas as pd\n",
    "import numpy as np\n",
    "import os\n",
    "\n",
    "from tqdm import tqdm\n",
    "import json"
   ]
  },
  {
   "cell_type": "code",
   "execution_count": 11,
   "metadata": {},
   "outputs": [],
   "source": [
    "def zero_based_mapping(data) :\n",
    "    with open('/opt/ml/movie-recommendation/data/train/zero_mapping.json', 'r') as f:\n",
    "        dict_data= json.load(f)\n",
    "\n",
    "    n_user = len(dict_data['user'])\n",
    "    n_item = len(dict_data['item'])\n",
    "\n",
    "    data['user']  = data['user'].map(lambda x : dict_data['user'][str(x)])\n",
    "    data['item']  = data['item'].map(lambda x : dict_data['item'][str(x)])\n",
    "    \n",
    "    return data, n_user, n_item"
   ]
  },
  {
   "cell_type": "code",
   "execution_count": 6,
   "metadata": {},
   "outputs": [],
   "source": [
    "data_dir = '/opt/ml/movie-recommendation/data/'\n",
    "train_df = pd.read_csv(os.path.join(data_dir+'train', 'train_ratings.csv')) # 전체 학습 데이터"
   ]
  },
  {
   "cell_type": "code",
   "execution_count": 12,
   "metadata": {},
   "outputs": [],
   "source": [
    "train_df,_,_ =zero_based_mapping(train_df)"
   ]
  },
  {
   "cell_type": "code",
   "execution_count": 7,
   "metadata": {},
   "outputs": [],
   "source": [
    "# Extract Top Most Popular movies\n",
    "top_ratio = 0.1\n",
    "\n",
    "num_items = train_df['item'].nunique()\n",
    "num_users = train_df['user'].nunique()\n",
    "most_popular_items = train_df['item'].value_counts()[:int(num_items*top_ratio)].index.values\n",
    "\n",
    "most_popular_items = set(most_popular_items)"
   ]
  },
  {
   "cell_type": "code",
   "execution_count": 14,
   "metadata": {},
   "outputs": [],
   "source": [
    "total_items = set(train_df['item'])\n",
    "observed_items_per_user = list(train_df.groupby('user')['item'])"
   ]
  },
  {
   "cell_type": "code",
   "execution_count": 22,
   "metadata": {},
   "outputs": [
    {
     "name": "stderr",
     "output_type": "stream",
     "text": [
      "100%|██████████| 31360/31360 [00:13<00:00, 2305.35it/s]\n"
     ]
    }
   ],
   "source": [
    "train_dir = '/opt/ml/movie-recommendation/data/'\n",
    "train_df = pd.read_csv(os.path.join(train_dir+'train', 'train_ratings.csv'))\n",
    "total_items = set(train_df['item'])\n",
    "observed_items_per_user = list(train_df.groupby('user')['item'])\n",
    "unobserved_dict = dict()\n",
    "for user, observed_items in observed_items_per_user:\n",
    "    unobserved_dict[user] = list(total_items - set(observed_items))"
   ]
  },
  {
   "cell_type": "code",
   "execution_count": 6,
   "metadata": {},
   "outputs": [
    {
     "name": "stderr",
     "output_type": "stream",
     "text": [
      "100%|██████████| 31360/31360 [00:30<00:00, 1031.37it/s]\n"
     ]
    }
   ],
   "source": [
    "# 각 유저마다 안본 영화만 선택\n",
    "unseen_items_dfs = list()\n",
    "\n",
    "for user, observed_items in tqdm(observed_items_per_user):\n",
    "    observed_items = set(observed_items)\n",
    "    unseen_item = list(most_popular_items - observed_items)\n",
    "\n",
    "    user_id = [user]*len(unseen_item)\n",
    "    unseen_items_dfs.append(pd.DataFrame(zip(user_id,unseen_item), columns=['user','item']))\n",
    "\n",
    "test_df = pd.concat(unseen_items_dfs, axis = 0, sort=False)"
   ]
  },
  {
   "cell_type": "code",
   "execution_count": 7,
   "metadata": {},
   "outputs": [
    {
     "data": {
      "text/html": [
       "<div>\n",
       "<style scoped>\n",
       "    .dataframe tbody tr th:only-of-type {\n",
       "        vertical-align: middle;\n",
       "    }\n",
       "\n",
       "    .dataframe tbody tr th {\n",
       "        vertical-align: top;\n",
       "    }\n",
       "\n",
       "    .dataframe thead th {\n",
       "        text-align: right;\n",
       "    }\n",
       "</style>\n",
       "<table border=\"1\" class=\"dataframe\">\n",
       "  <thead>\n",
       "    <tr style=\"text-align: right;\">\n",
       "      <th></th>\n",
       "      <th>user</th>\n",
       "      <th>item</th>\n",
       "    </tr>\n",
       "  </thead>\n",
       "  <tbody>\n",
       "    <tr>\n",
       "      <th>0</th>\n",
       "      <td>11</td>\n",
       "      <td>2</td>\n",
       "    </tr>\n",
       "    <tr>\n",
       "      <th>1</th>\n",
       "      <td>11</td>\n",
       "      <td>3362</td>\n",
       "    </tr>\n",
       "    <tr>\n",
       "      <th>2</th>\n",
       "      <td>11</td>\n",
       "      <td>7451</td>\n",
       "    </tr>\n",
       "    <tr>\n",
       "      <th>3</th>\n",
       "      <td>11</td>\n",
       "      <td>79132</td>\n",
       "    </tr>\n",
       "    <tr>\n",
       "      <th>4</th>\n",
       "      <td>11</td>\n",
       "      <td>1307</td>\n",
       "    </tr>\n",
       "    <tr>\n",
       "      <th>...</th>\n",
       "      <td>...</td>\n",
       "      <td>...</td>\n",
       "    </tr>\n",
       "    <tr>\n",
       "      <th>18182955</th>\n",
       "      <td>138493</td>\n",
       "      <td>2700</td>\n",
       "    </tr>\n",
       "    <tr>\n",
       "      <th>18182956</th>\n",
       "      <td>138493</td>\n",
       "      <td>648</td>\n",
       "    </tr>\n",
       "    <tr>\n",
       "      <th>18182957</th>\n",
       "      <td>138493</td>\n",
       "      <td>2692</td>\n",
       "    </tr>\n",
       "    <tr>\n",
       "      <th>18182958</th>\n",
       "      <td>138493</td>\n",
       "      <td>2683</td>\n",
       "    </tr>\n",
       "    <tr>\n",
       "      <th>18182959</th>\n",
       "      <td>138493</td>\n",
       "      <td>47099</td>\n",
       "    </tr>\n",
       "  </tbody>\n",
       "</table>\n",
       "<p>18182960 rows × 2 columns</p>\n",
       "</div>"
      ],
      "text/plain": [
       "            user   item\n",
       "0             11      2\n",
       "1             11   3362\n",
       "2             11   7451\n",
       "3             11  79132\n",
       "4             11   1307\n",
       "...          ...    ...\n",
       "18182955  138493   2700\n",
       "18182956  138493    648\n",
       "18182957  138493   2692\n",
       "18182958  138493   2683\n",
       "18182959  138493  47099\n",
       "\n",
       "[18182960 rows x 2 columns]"
      ]
     },
     "execution_count": 7,
     "metadata": {},
     "output_type": "execute_result"
    }
   ],
   "source": [
    "test_df = test_df.sort_values(by=['user'])\n",
    "test_df.reset_index(drop=True, inplace=True)\n",
    "test_df"
   ]
  },
  {
   "cell_type": "code",
   "execution_count": 9,
   "metadata": {},
   "outputs": [],
   "source": [
    "test_df.to_csv(data_dir+'eval/Unobserved Cases Top 10%.csv')"
   ]
  },
  {
   "cell_type": "code",
   "execution_count": 13,
   "metadata": {},
   "outputs": [
    {
     "name": "stderr",
     "output_type": "stream",
     "text": [
      "100%|██████████| 31360/31360 [02:32<00:00, 206.03it/s]\n"
     ]
    },
    {
     "data": {
      "text/html": [
       "<div>\n",
       "<style scoped>\n",
       "    .dataframe tbody tr th:only-of-type {\n",
       "        vertical-align: middle;\n",
       "    }\n",
       "\n",
       "    .dataframe tbody tr th {\n",
       "        vertical-align: top;\n",
       "    }\n",
       "\n",
       "    .dataframe thead th {\n",
       "        text-align: right;\n",
       "    }\n",
       "</style>\n",
       "<table border=\"1\" class=\"dataframe\">\n",
       "  <thead>\n",
       "    <tr style=\"text-align: right;\">\n",
       "      <th></th>\n",
       "      <th>user</th>\n",
       "      <th>item</th>\n",
       "    </tr>\n",
       "  </thead>\n",
       "  <tbody>\n",
       "    <tr>\n",
       "      <th>0</th>\n",
       "      <td>11</td>\n",
       "      <td>2</td>\n",
       "    </tr>\n",
       "    <tr>\n",
       "      <th>1</th>\n",
       "      <td>11</td>\n",
       "      <td>7177</td>\n",
       "    </tr>\n",
       "    <tr>\n",
       "      <th>2</th>\n",
       "      <td>11</td>\n",
       "      <td>89090</td>\n",
       "    </tr>\n",
       "    <tr>\n",
       "      <th>3</th>\n",
       "      <td>11</td>\n",
       "      <td>7171</td>\n",
       "    </tr>\n",
       "    <tr>\n",
       "      <th>4</th>\n",
       "      <td>11</td>\n",
       "      <td>89087</td>\n",
       "    </tr>\n",
       "    <tr>\n",
       "      <th>...</th>\n",
       "      <td>...</td>\n",
       "      <td>...</td>\n",
       "    </tr>\n",
       "    <tr>\n",
       "      <th>208313044</th>\n",
       "      <td>138493</td>\n",
       "      <td>101739</td>\n",
       "    </tr>\n",
       "    <tr>\n",
       "      <th>208313045</th>\n",
       "      <td>138493</td>\n",
       "      <td>3435</td>\n",
       "    </tr>\n",
       "    <tr>\n",
       "      <th>208313046</th>\n",
       "      <td>138493</td>\n",
       "      <td>85354</td>\n",
       "    </tr>\n",
       "    <tr>\n",
       "      <th>208313047</th>\n",
       "      <td>138493</td>\n",
       "      <td>3448</td>\n",
       "    </tr>\n",
       "    <tr>\n",
       "      <th>208313048</th>\n",
       "      <td>138493</td>\n",
       "      <td>81910</td>\n",
       "    </tr>\n",
       "  </tbody>\n",
       "</table>\n",
       "<p>208313049 rows × 2 columns</p>\n",
       "</div>"
      ],
      "text/plain": [
       "             user    item\n",
       "0              11       2\n",
       "1              11    7177\n",
       "2              11   89090\n",
       "3              11    7171\n",
       "4              11   89087\n",
       "...           ...     ...\n",
       "208313044  138493  101739\n",
       "208313045  138493    3435\n",
       "208313046  138493   85354\n",
       "208313047  138493    3448\n",
       "208313048  138493   81910\n",
       "\n",
       "[208313049 rows x 2 columns]"
      ]
     },
     "execution_count": 13,
     "metadata": {},
     "output_type": "execute_result"
    }
   ],
   "source": [
    "# Extract Top Most Popular movies\n",
    "num_items = train_df['item'].nunique()\n",
    "num_users = train_df['user'].nunique()\n",
    "\n",
    "items = set(train_df['item'])\n",
    "observed_items_per_user = list(train_df.groupby('user')['item'])\n",
    "\n",
    "# 각 유저마다 안본 영화만 선택\n",
    "unseen_items_dfs = list()\n",
    "\n",
    "for user, observed_items in tqdm(observed_items_per_user):\n",
    "    observed_items = set(observed_items)\n",
    "    unseen_item = list(items - observed_items)\n",
    "\n",
    "    user_id = [user]*len(unseen_item)\n",
    "    unseen_items_dfs.append(pd.DataFrame(zip(user_id,unseen_item), columns=['user','item']))\n",
    "\n",
    "test_df = pd.concat(unseen_items_dfs, axis = 0, sort=False)\n",
    "\n",
    "test_df = test_df.sort_values(by=['user'])\n",
    "test_df.reset_index(drop=True, inplace=True)\n",
    "test_df"
   ]
  },
  {
   "cell_type": "code",
   "execution_count": null,
   "metadata": {},
   "outputs": [],
   "source": []
  }
 ],
 "metadata": {
  "interpreter": {
   "hash": "3ea19d11efa7602c1f12500925a974ed4f31fcf847bd6f694bd5180da2602ded"
  },
  "kernelspec": {
   "display_name": "Python 3.8.12 ('py38')",
   "language": "python",
   "name": "python3"
  },
  "language_info": {
   "codemirror_mode": {
    "name": "ipython",
    "version": 3
   },
   "file_extension": ".py",
   "mimetype": "text/x-python",
   "name": "python",
   "nbconvert_exporter": "python",
   "pygments_lexer": "ipython3",
   "version": "3.8.12"
  },
  "orig_nbformat": 4
 },
 "nbformat": 4,
 "nbformat_minor": 2
}
