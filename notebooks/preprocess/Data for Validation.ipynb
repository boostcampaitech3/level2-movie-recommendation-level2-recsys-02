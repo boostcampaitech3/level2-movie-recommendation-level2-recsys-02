{
 "cells": [
  {
   "cell_type": "code",
   "execution_count": 1,
   "metadata": {},
   "outputs": [],
   "source": [
    "import numpy as np\n",
    "import pandas as pd\n",
    "import torch\n",
    "import torch.nn as nn\n",
    "import torch.optim as optim\n",
    "from torch.utils.data import Dataset, DataLoader\n",
    "from scipy.sparse import dok_matrix\n",
    "from tqdm import tqdm"
   ]
  },
  {
   "cell_type": "code",
   "execution_count": 2,
   "metadata": {},
   "outputs": [],
   "source": [
    "data_dir = '/opt/ml/movie-recommendation/data/train/'\n",
    "data = pd.read_csv(data_dir + 'train_ratings.csv')\n",
    "data = data[['user', 'item']]"
   ]
  },
  {
   "cell_type": "code",
   "execution_count": 3,
   "metadata": {},
   "outputs": [],
   "source": [
    "user_group_dfs = data.groupby(by='user')['item']"
   ]
  },
  {
   "cell_type": "code",
   "execution_count": 4,
   "metadata": {},
   "outputs": [
    {
     "name": "stderr",
     "output_type": "stream",
     "text": [
      "100%|██████████| 31360/31360 [01:41<00:00, 309.99it/s]\n"
     ]
    }
   ],
   "source": [
    "train_dfs = []\n",
    "test_dfs  = []\n",
    "\n",
    "items = set(data.loc[:, 'item'])\n",
    "\n",
    "for u, u_items in tqdm(user_group_dfs):\n",
    "    num_data = len(u_items)\n",
    "    num_test = int(num_data*0.2)\n",
    "\n",
    "    train_idx = np.random.choice(num_data, num_data-num_test, replace=False)\n",
    "    test_idx = [idx for idx in range(num_data) if idx not in train_idx]\n",
    "\n",
    "    train_df = pd.DataFrame({'user':[u]*len(train_idx), 'item':u_items.values[train_idx]})\n",
    "    test_df = pd.DataFrame({'user':[u]*len(test_idx), 'item':u_items.values[test_idx], 'rating': [1]*len(test_idx)})\n",
    "\n",
    "    num_negs = len(test_idx)*2 if len(test_idx) > 10 else 10\n",
    "    neg_items = np.random.choice(list(items - set(u_items)), num_negs, replace=False)\n",
    "    neg_df = pd.DataFrame({'user': [u]*num_negs, 'item': neg_items, 'rating': [0]*num_negs})\n",
    "\n",
    "    train_dfs.append(train_df)\n",
    "    test_dfs.extend([test_df, neg_df])\n",
    "\n",
    "train_df = pd.concat(train_dfs)\n",
    "test_df = pd.concat(test_dfs)"
   ]
  },
  {
   "cell_type": "code",
   "execution_count": 5,
   "metadata": {},
   "outputs": [],
   "source": [
    "data_dir = '/opt/ml/movie-recommendation/data/train/bpr/'\n",
    "train_df.to_csv(data_dir+'train.csv')\n",
    "test_df.to_csv(data_dir+'valid.csv')"
   ]
  }
 ],
 "metadata": {
  "interpreter": {
   "hash": "3ea19d11efa7602c1f12500925a974ed4f31fcf847bd6f694bd5180da2602ded"
  },
  "kernelspec": {
   "display_name": "Python 3.8.12 ('py38')",
   "language": "python",
   "name": "python3"
  },
  "language_info": {
   "codemirror_mode": {
    "name": "ipython",
    "version": 3
   },
   "file_extension": ".py",
   "mimetype": "text/x-python",
   "name": "python",
   "nbconvert_exporter": "python",
   "pygments_lexer": "ipython3",
   "version": "3.8.12"
  },
  "orig_nbformat": 4
 },
 "nbformat": 4,
 "nbformat_minor": 2
}
