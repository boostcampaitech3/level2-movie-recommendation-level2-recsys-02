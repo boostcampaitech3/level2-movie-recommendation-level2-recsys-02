{
 "cells": [
  {
   "cell_type": "code",
   "execution_count": 11,
   "metadata": {},
   "outputs": [],
   "source": [
    "import torch\n",
    "from tqdm import tqdm\n",
    "import pandas as pd\n",
    "import numpy as np"
   ]
  },
  {
   "cell_type": "code",
   "execution_count": 2,
   "metadata": {},
   "outputs": [],
   "source": [
    "def preprocess(df) :\n",
    "    print(\"preprocessing..\")\n",
    "    df = df.sort_values(['user', 'time'], ascending = [True, True])\n",
    "\n",
    "    movies = df['item'].unique()\n",
    "    movie_to_id = dict(zip(movies, range(len(movies))))\n",
    "    id_to_movie = {v: k for k, v in movie_to_id.items()}\n",
    "    \n",
    "    df['item'] = df['item'].apply(lambda x : movie_to_id[x])\n",
    "    popular_items = list(df['item'].value_counts()[:100].keys())\n",
    "    print(\"Complete!\")\n",
    "    return df, movie_to_id, id_to_movie, popular_items"
   ]
  },
  {
   "cell_type": "code",
   "execution_count": 3,
   "metadata": {},
   "outputs": [],
   "source": [
    "class StaticsBasedModel() :\n",
    "    def __init__(self, data) :\n",
    "        item_num = len(data['item'].unique())\n",
    "        self.appearance = torch.zeros((item_num, item_num))\n",
    "        self.appearance_ratio = torch.zeros((item_num, item_num))\n",
    "        self.data = data\n",
    "        self.users = data['user'].unique()\n",
    "\n",
    "    def count_appearance(self) :\n",
    "        print(\"count appearance ratio..\")\n",
    "        for user in tqdm(self.users) :\n",
    "            user_item = self.data[self.data.user == user]['item'].values\n",
    "            \n",
    "            prev_item = user_item[0]\n",
    "            self.appearance[prev_item][user_item[1]] += 1\n",
    "            for index, item in enumerate(user_item[1:-1], start=1) :\n",
    "                next_item = user_item[index+1]\n",
    "                self.appearance[item][prev_item] += 1\n",
    "                self.appearance[item][next_item] += 1\n",
    "                prev_item = item\n",
    "            self.appearance[user_item[-1]][prev_item] += 1\n",
    "\n",
    "    def cal_ratio(self) :\n",
    "        appearance_sum_a0 = torch.sum(self.appearance, axis = 0)\n",
    "        appearance_sum_a1 = torch.sum(self.appearance, axis = 1)\n",
    "\n",
    "        for item_index in range(appearance_sum_a0.size()[0]) :\n",
    "            self.appearance_ratio[:, item_index] = \\\n",
    "                torch.div(self.appearance[:, item_index], appearance_sum_a0[item_index]) * 0.5 + \\\n",
    "                torch.div(self.appearance[:, item_index], appearance_sum_a1[item_index]) * 0.5"
   ]
  },
  {
   "cell_type": "code",
   "execution_count": 4,
   "metadata": {},
   "outputs": [],
   "source": [
    "class MarcovChainModel(StaticsBasedModel) :\n",
    "    def __init__(self, data) :\n",
    "        super(MarcovChainModel, self).__init__(data)\n",
    "\n",
    "    def cal_ratio(self) :\n",
    "        appearance_sum = torch.sum(self.appearance, axis = 0)\n",
    "\n",
    "        for item_index in range(appearance_sum.size()[0]) :\n",
    "            self.appearance_ratio[:, item_index] = \\\n",
    "                torch.div(self.appearance[:, item_index], appearance_sum[item_index])"
   ]
  },
  {
   "cell_type": "code",
   "execution_count": 2,
   "metadata": {},
   "outputs": [
    {
     "data": {
      "text/html": [
       "<div>\n",
       "<style scoped>\n",
       "    .dataframe tbody tr th:only-of-type {\n",
       "        vertical-align: middle;\n",
       "    }\n",
       "\n",
       "    .dataframe tbody tr th {\n",
       "        vertical-align: top;\n",
       "    }\n",
       "\n",
       "    .dataframe thead th {\n",
       "        text-align: right;\n",
       "    }\n",
       "</style>\n",
       "<table border=\"1\" class=\"dataframe\">\n",
       "  <thead>\n",
       "    <tr style=\"text-align: right;\">\n",
       "      <th></th>\n",
       "      <th>user</th>\n",
       "      <th>item</th>\n",
       "      <th>time</th>\n",
       "    </tr>\n",
       "  </thead>\n",
       "  <tbody>\n",
       "    <tr>\n",
       "      <th>0</th>\n",
       "      <td>11</td>\n",
       "      <td>4643</td>\n",
       "      <td>1230782529</td>\n",
       "    </tr>\n",
       "    <tr>\n",
       "      <th>1</th>\n",
       "      <td>11</td>\n",
       "      <td>170</td>\n",
       "      <td>1230782534</td>\n",
       "    </tr>\n",
       "    <tr>\n",
       "      <th>2</th>\n",
       "      <td>11</td>\n",
       "      <td>531</td>\n",
       "      <td>1230782539</td>\n",
       "    </tr>\n",
       "    <tr>\n",
       "      <th>3</th>\n",
       "      <td>11</td>\n",
       "      <td>616</td>\n",
       "      <td>1230782542</td>\n",
       "    </tr>\n",
       "    <tr>\n",
       "      <th>4</th>\n",
       "      <td>11</td>\n",
       "      <td>2140</td>\n",
       "      <td>1230782563</td>\n",
       "    </tr>\n",
       "    <tr>\n",
       "      <th>...</th>\n",
       "      <td>...</td>\n",
       "      <td>...</td>\n",
       "      <td>...</td>\n",
       "    </tr>\n",
       "    <tr>\n",
       "      <th>5154466</th>\n",
       "      <td>138493</td>\n",
       "      <td>44022</td>\n",
       "      <td>1260209449</td>\n",
       "    </tr>\n",
       "    <tr>\n",
       "      <th>5154467</th>\n",
       "      <td>138493</td>\n",
       "      <td>4958</td>\n",
       "      <td>1260209482</td>\n",
       "    </tr>\n",
       "    <tr>\n",
       "      <th>5154468</th>\n",
       "      <td>138493</td>\n",
       "      <td>68319</td>\n",
       "      <td>1260209720</td>\n",
       "    </tr>\n",
       "    <tr>\n",
       "      <th>5154469</th>\n",
       "      <td>138493</td>\n",
       "      <td>40819</td>\n",
       "      <td>1260209726</td>\n",
       "    </tr>\n",
       "    <tr>\n",
       "      <th>5154470</th>\n",
       "      <td>138493</td>\n",
       "      <td>27311</td>\n",
       "      <td>1260209807</td>\n",
       "    </tr>\n",
       "  </tbody>\n",
       "</table>\n",
       "<p>5154471 rows × 3 columns</p>\n",
       "</div>"
      ],
      "text/plain": [
       "           user   item        time\n",
       "0            11   4643  1230782529\n",
       "1            11    170  1230782534\n",
       "2            11    531  1230782539\n",
       "3            11    616  1230782542\n",
       "4            11   2140  1230782563\n",
       "...         ...    ...         ...\n",
       "5154466  138493  44022  1260209449\n",
       "5154467  138493   4958  1260209482\n",
       "5154468  138493  68319  1260209720\n",
       "5154469  138493  40819  1260209726\n",
       "5154470  138493  27311  1260209807\n",
       "\n",
       "[5154471 rows x 3 columns]"
      ]
     },
     "execution_count": 2,
     "metadata": {},
     "output_type": "execute_result"
    }
   ],
   "source": [
    "import pandas as pd\n",
    "data_dir = '/opt/ml/movie-recommendation/data/train/'\n",
    "\n",
    "df = pd.read_csv(data_dir+'train_ratings.csv')\n",
    "df"
   ]
  },
  {
   "cell_type": "code",
   "execution_count": 57,
   "metadata": {},
   "outputs": [
    {
     "name": "stdout",
     "output_type": "stream",
     "text": [
      "preprocessing..\n",
      "Complete!\n"
     ]
    }
   ],
   "source": [
    "df, movie_to_id, id_to_movie, popular_items = preprocess(df)"
   ]
  },
  {
   "cell_type": "code",
   "execution_count": 289,
   "metadata": {},
   "outputs": [
    {
     "name": "stdout",
     "output_type": "stream",
     "text": [
      "count appearance ratio..\n"
     ]
    },
    {
     "name": "stderr",
     "output_type": "stream",
     "text": [
      "100%|██████████| 31360/31360 [06:01<00:00, 86.74it/s] \n"
     ]
    },
    {
     "data": {
      "text/plain": [
       "torch.Size([6807, 6807])"
      ]
     },
     "execution_count": 289,
     "metadata": {},
     "output_type": "execute_result"
    }
   ],
   "source": [
    "model = MarcovChainModel(df)\n",
    "\n",
    "model.count_appearance()\n",
    "torch.save(model.appearance, data_dir+'appearance.pt')\n",
    "\n",
    "model.cal_ratio()\n",
    "torch.save(model.appearance_ratio, data_dir+'appearance_ratio.pt')"
   ]
  },
  {
   "cell_type": "code",
   "execution_count": 58,
   "metadata": {},
   "outputs": [],
   "source": [
    "appearance = torch.load(data_dir+'appearance.pt')\n",
    "appearance_ratio = torch.load(data_dir+'appearance_ratio.pt')\n",
    "total_num = torch.sum(appearance) / 2\n",
    "probs = appearance_ratio + torch.diag(torch.sum(appearance, axis=0) / total_num)\n",
    "\n",
    "user_item_sequence = list(df.groupby(by='user')['item'])"
   ]
  },
  {
   "cell_type": "code",
   "execution_count": 66,
   "metadata": {},
   "outputs": [
    {
     "name": "stderr",
     "output_type": "stream",
     "text": [
      "100%|██████████| 31360/31360 [14:08<00:00, 36.97it/s]\n"
     ]
    }
   ],
   "source": [
    "window_size = 10\n",
    "sub_u, sub_i = [], []\n",
    "\n",
    "for user, item_sequence in tqdm(user_item_sequence):\n",
    "    item_sequence = np.array(item_sequence)\n",
    "    \n",
    "    chain_prob = (probs[item_sequence[0], item_sequence[0]]).clone()\n",
    "    window_index = 0\n",
    "\n",
    "    scores = []\n",
    "    for index, item in enumerate(item_sequence[:-1]):\n",
    "        if window_size == 0:\n",
    "            scores.append(appearance_ratio[item].mul(chain_prob).unsqueeze(1))\n",
    "            chain_prob = chain_prob.div(\n",
    "                probs[item_sequence[window_index], item_sequence[window_index]]\n",
    "            )\n",
    "            window_index += 1\n",
    "            chain_prob = chain_prob.mul(\n",
    "                probs[item_sequence[window_index], item_sequence[window_index]]\n",
    "            )\n",
    "            continue\n",
    "\n",
    "        next_item = item_sequence[index+1]\n",
    "\n",
    "        if index >= window_size :\n",
    "            scores.append(appearance_ratio[item].mul(chain_prob).unsqueeze(1))\n",
    "            chain_prob = chain_prob.div(\n",
    "                probs[item_sequence[window_index], item_sequence[window_index]]\n",
    "            )\n",
    "            chain_prob = chain_prob.div(\n",
    "                probs[item_sequence[window_index], item_sequence[window_index+1]]\n",
    "            )\n",
    "            window_index += 1\n",
    "            chain_prob = chain_prob.mul(\n",
    "                probs[item_sequence[window_index], item_sequence[window_index]]\n",
    "            )\n",
    "        \n",
    "        chain_prob = chain_prob.mul(probs[item, next_item])\n",
    "    scores.append(appearance_ratio[item_sequence[-1]].mul(chain_prob).unsqueeze(1))\n",
    "\n",
    "    scores = torch.cat(scores, axis=1)\n",
    "    score = torch.sum(scores, axis=1)\n",
    "    ranking = torch.topk(score, len(score))[1]\n",
    "\n",
    "    pred = []\n",
    "    for item_id in ranking :\n",
    "        if item_id in item_sequence :\n",
    "            continue\n",
    "        movie = id_to_movie[int(item_id)]\n",
    "        sub_u.append(user)\n",
    "        sub_i.append(movie)\n",
    "        pred.append(movie)\n",
    "        if len(pred) == 10 :\n",
    "            break"
   ]
  },
  {
   "cell_type": "code",
   "execution_count": 67,
   "metadata": {},
   "outputs": [],
   "source": [
    "submission = {\"user\" : sub_u, \"item\" : sub_i}\n",
    "submission_df = pd.DataFrame(submission)\n",
    "submission_df.to_csv(f'/opt/ml/movie-recommendation/BPR/output/chain-10.csv', index=False)"
   ]
  },
  {
   "cell_type": "code",
   "execution_count": 1,
   "metadata": {},
   "outputs": [],
   "source": [
    "import torch"
   ]
  },
  {
   "cell_type": "code",
   "execution_count": 2,
   "metadata": {},
   "outputs": [
    {
     "data": {
      "text/plain": [
       "torch.Size([1024, 10, 1980])"
      ]
     },
     "execution_count": 2,
     "metadata": {},
     "output_type": "execute_result"
    }
   ],
   "source": [
    "torch.randn((1024,1980,10)).transpose(1,2).size()"
   ]
  },
  {
   "cell_type": "code",
   "execution_count": null,
   "metadata": {},
   "outputs": [],
   "source": []
  }
 ],
 "metadata": {
  "interpreter": {
   "hash": "3ea19d11efa7602c1f12500925a974ed4f31fcf847bd6f694bd5180da2602ded"
  },
  "kernelspec": {
   "display_name": "Python 3.8.12 ('py38')",
   "language": "python",
   "name": "python3"
  },
  "language_info": {
   "codemirror_mode": {
    "name": "ipython",
    "version": 3
   },
   "file_extension": ".py",
   "mimetype": "text/x-python",
   "name": "python",
   "nbconvert_exporter": "python",
   "pygments_lexer": "ipython3",
   "version": "3.8.12"
  },
  "orig_nbformat": 4
 },
 "nbformat": 4,
 "nbformat_minor": 2
}
