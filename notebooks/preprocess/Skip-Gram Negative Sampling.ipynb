{
 "cells": [
  {
   "cell_type": "code",
   "execution_count": 1,
   "metadata": {},
   "outputs": [],
   "source": [
    "import pandas as pd\n",
    "import numpy as np\n",
    "import pandas as pd\n",
    "import torch\n",
    "import torch.nn as nn\n",
    "import torch.optim as optim\n",
    "from torch.utils.data import Dataset, DataLoader\n",
    "from scipy.sparse import dok_matrix\n",
    "import json\n",
    "from importlib import import_module\n",
    "import os\n",
    "import pickle\n",
    "from tqdm import tqdm\n",
    "import random\n",
    "from sklearn.model_selection import train_test_split"
   ]
  },
  {
   "cell_type": "code",
   "execution_count": 2,
   "metadata": {},
   "outputs": [],
   "source": [
    "def zero_based_mapping(data) :\n",
    "    with open('/opt/ml/movie-recommendation/data/train/zero_mapping.json', 'r') as f:\n",
    "        dict_data= json.load(f)\n",
    "\n",
    "    n_user = len(dict_data['user'])\n",
    "    n_item = len(dict_data['item'])\n",
    "\n",
    "    data['user']  = data['user'].map(lambda x : dict_data['user'][str(x)])\n",
    "    data['item']  = data['item'].map(lambda x : dict_data['item'][str(x)])\n",
    "    \n",
    "    return data, n_user, n_item"
   ]
  },
  {
   "cell_type": "code",
   "execution_count": 5,
   "metadata": {},
   "outputs": [
    {
     "data": {
      "text/html": [
       "<div>\n",
       "<style scoped>\n",
       "    .dataframe tbody tr th:only-of-type {\n",
       "        vertical-align: middle;\n",
       "    }\n",
       "\n",
       "    .dataframe tbody tr th {\n",
       "        vertical-align: top;\n",
       "    }\n",
       "\n",
       "    .dataframe thead th {\n",
       "        text-align: right;\n",
       "    }\n",
       "</style>\n",
       "<table border=\"1\" class=\"dataframe\">\n",
       "  <thead>\n",
       "    <tr style=\"text-align: right;\">\n",
       "      <th></th>\n",
       "      <th>user</th>\n",
       "      <th>item</th>\n",
       "      <th>time</th>\n",
       "    </tr>\n",
       "  </thead>\n",
       "  <tbody>\n",
       "    <tr>\n",
       "      <th>0</th>\n",
       "      <td>11</td>\n",
       "      <td>4643</td>\n",
       "      <td>1230782529</td>\n",
       "    </tr>\n",
       "    <tr>\n",
       "      <th>1</th>\n",
       "      <td>11</td>\n",
       "      <td>170</td>\n",
       "      <td>1230782534</td>\n",
       "    </tr>\n",
       "    <tr>\n",
       "      <th>2</th>\n",
       "      <td>11</td>\n",
       "      <td>531</td>\n",
       "      <td>1230782539</td>\n",
       "    </tr>\n",
       "    <tr>\n",
       "      <th>3</th>\n",
       "      <td>11</td>\n",
       "      <td>616</td>\n",
       "      <td>1230782542</td>\n",
       "    </tr>\n",
       "    <tr>\n",
       "      <th>4</th>\n",
       "      <td>11</td>\n",
       "      <td>2140</td>\n",
       "      <td>1230782563</td>\n",
       "    </tr>\n",
       "    <tr>\n",
       "      <th>...</th>\n",
       "      <td>...</td>\n",
       "      <td>...</td>\n",
       "      <td>...</td>\n",
       "    </tr>\n",
       "    <tr>\n",
       "      <th>5154466</th>\n",
       "      <td>138493</td>\n",
       "      <td>44022</td>\n",
       "      <td>1260209449</td>\n",
       "    </tr>\n",
       "    <tr>\n",
       "      <th>5154467</th>\n",
       "      <td>138493</td>\n",
       "      <td>4958</td>\n",
       "      <td>1260209482</td>\n",
       "    </tr>\n",
       "    <tr>\n",
       "      <th>5154468</th>\n",
       "      <td>138493</td>\n",
       "      <td>68319</td>\n",
       "      <td>1260209720</td>\n",
       "    </tr>\n",
       "    <tr>\n",
       "      <th>5154469</th>\n",
       "      <td>138493</td>\n",
       "      <td>40819</td>\n",
       "      <td>1260209726</td>\n",
       "    </tr>\n",
       "    <tr>\n",
       "      <th>5154470</th>\n",
       "      <td>138493</td>\n",
       "      <td>27311</td>\n",
       "      <td>1260209807</td>\n",
       "    </tr>\n",
       "  </tbody>\n",
       "</table>\n",
       "<p>5154471 rows × 3 columns</p>\n",
       "</div>"
      ],
      "text/plain": [
       "           user   item        time\n",
       "0            11   4643  1230782529\n",
       "1            11    170  1230782534\n",
       "2            11    531  1230782539\n",
       "3            11    616  1230782542\n",
       "4            11   2140  1230782563\n",
       "...         ...    ...         ...\n",
       "5154466  138493  44022  1260209449\n",
       "5154467  138493   4958  1260209482\n",
       "5154468  138493  68319  1260209720\n",
       "5154469  138493  40819  1260209726\n",
       "5154470  138493  27311  1260209807\n",
       "\n",
       "[5154471 rows x 3 columns]"
      ]
     },
     "execution_count": 5,
     "metadata": {},
     "output_type": "execute_result"
    }
   ],
   "source": [
    "data_dir = '/opt/ml/movie-recommendation/data/train/'\n",
    "\n",
    "ratings_df = pd.read_csv(data_dir+'train_ratings.csv')\n",
    "ratings_df"
   ]
  },
  {
   "cell_type": "code",
   "execution_count": 6,
   "metadata": {},
   "outputs": [],
   "source": [
    "def choose_with_prob(p_discard):\n",
    "    p = random.uniform()\n",
    "    return False if p < p_discard else True"
   ]
  },
  {
   "cell_type": "code",
   "execution_count": 30,
   "metadata": {},
   "outputs": [
    {
     "data": {
      "text/plain": [
       "user\n",
       "11        [4643, 170, 531, 616, 2140, 2722, 2313, 2688, ...\n",
       "14        [8961, 1396, 471, 2105, 1042, 1947, 1269, 2394...\n",
       "18        [1952, 1283, 3507, 4280, 51084, 593, 318, 356,...\n",
       "25        [261, 22, 2161, 3255, 372, 1093, 428, 175, 214...\n",
       "31        [260, 1196, 1210, 7153, 4993, 5952, 1270, 5855...\n",
       "                                ...                        \n",
       "138473    [524, 3354, 1025, 6565, 69757, 2085, 32, 55282...\n",
       "138475    [1639, 1673, 1148, 246, 2019, 1267, 1172, 1235...\n",
       "138486    [2694, 1994, 2723, 441, 2288, 637, 2013, 2423,...\n",
       "138492    [2115, 908, 58, 2700, 2599, 1500, 1358, 1288, ...\n",
       "138493    [3174, 2872, 48780, 2662, 2840, 1566, 2857, 20...\n",
       "Name: item, Length: 31360, dtype: object"
      ]
     },
     "execution_count": 30,
     "metadata": {},
     "output_type": "execute_result"
    }
   ],
   "source": [
    "item_seqs = ratings_df.groupby('user')['item'].agg(list)\n",
    "item_seqs"
   ]
  },
  {
   "cell_type": "code",
   "execution_count": 34,
   "metadata": {},
   "outputs": [],
   "source": [
    "word_frequecy = ratings_df['item'].value_counts()\n",
    "prob_discard = 1 - np.sqrt(1e-3 / word_frequecy)\n",
    "n_items = ratings_df['item'].nunique()"
   ]
  },
  {
   "cell_type": "code",
   "execution_count": null,
   "metadata": {},
   "outputs": [],
   "source": [
    "sgns_samples = []\n",
    "for seq in item_seqs:\n",
    "    seq = [w for w in seq if choose_with_prob(prob_discard[w])]\n",
    "    for i in range(len(seq)):\n",
    "        target = seq[i]\n",
    "        # generate positive sample\n",
    "        context_list = []\n",
    "        j = 0\n",
    "        while j < len(seq):\n",
    "            if j != i:\n",
    "                context_list.append(seq[j])\n",
    "                sgns_samples.append((target, seq[j], 1))\n",
    "            j += 1\n",
    "        # generate negative sample\n",
    "        for _ in range(len(context_list)):\n",
    "            neg_idx = random.randrange(0, n_items)\n",
    "            while neg_idx in context_list:\n",
    "                neg_idx = random.randrange(0, n_items)\n",
    "            sgns_samples.append((target, neg_idx, 0))"
   ]
  }
 ],
 "metadata": {
  "interpreter": {
   "hash": "3ea19d11efa7602c1f12500925a974ed4f31fcf847bd6f694bd5180da2602ded"
  },
  "kernelspec": {
   "display_name": "Python 3.8.12 ('py38')",
   "language": "python",
   "name": "python3"
  },
  "language_info": {
   "codemirror_mode": {
    "name": "ipython",
    "version": 3
   },
   "file_extension": ".py",
   "mimetype": "text/x-python",
   "name": "python",
   "nbconvert_exporter": "python",
   "pygments_lexer": "ipython3",
   "version": "3.8.12"
  },
  "orig_nbformat": 4
 },
 "nbformat": 4,
 "nbformat_minor": 2
}
